{
 "cells": [
  {
   "cell_type": "markdown",
   "source": [
    "# Play with DL"
   ],
   "metadata": {
    "collapsed": false
   }
  },
  {
   "cell_type": "markdown",
   "source": [
    "### First, let's go through the tutorials from TensorFlow"
   ],
   "metadata": {
    "collapsed": false
   }
  },
  {
   "cell_type": "markdown",
   "source": [
    "Setup tensorflow"
   ],
   "metadata": {
    "collapsed": false
   }
  },
  {
   "cell_type": "code",
   "execution_count": 26,
   "outputs": [],
   "source": [
    "import numpy as np\n",
    "import tensorflow as tf\n",
    "\n",
    "TF_CPP_MIN_LOG_LEVEL=\"3\""
   ],
   "metadata": {
    "collapsed": false
   }
  },
  {
   "cell_type": "code",
   "execution_count": 27,
   "outputs": [
    {
     "name": "stdout",
     "output_type": "stream",
     "text": [
      "TensorFlow version:  2.11.0\n"
     ]
    },
    {
     "data": {
      "text/plain": "'1.24.0'"
     },
     "execution_count": 27,
     "metadata": {},
     "output_type": "execute_result"
    }
   ],
   "source": [
    "print('TensorFlow version: ', tf.__version__)\n",
    "np.__version__"
   ],
   "metadata": {
    "collapsed": false
   }
  },
  {
   "cell_type": "markdown",
   "source": [
    "What running device?"
   ],
   "metadata": {
    "collapsed": false
   }
  },
  {
   "cell_type": "code",
   "execution_count": 28,
   "outputs": [
    {
     "name": "stdout",
     "output_type": "stream",
     "text": [
      "GPUs Available:  [PhysicalDevice(name='/physical_device:GPU:0', device_type='GPU')]\n"
     ]
    }
   ],
   "source": [
    "print(\"GPUs Available: \", tf.config.list_physical_devices('GPU'))"
   ],
   "metadata": {
    "collapsed": false
   }
  },
  {
   "cell_type": "markdown",
   "source": [
    "What's next? At first try mnist"
   ],
   "metadata": {
    "collapsed": false
   }
  },
  {
   "cell_type": "code",
   "execution_count": 29,
   "outputs": [],
   "source": [
    "mnist = tf.keras.datasets.mnist\n",
    "\n",
    "(x_train, y_train), (x_test, y_test) = mnist.load_data()\n",
    "x_test, x_train = x_test / 255.0, x_train / 255.0"
   ],
   "metadata": {
    "collapsed": false
   }
  },
  {
   "cell_type": "markdown",
   "source": [
    "Create model"
   ],
   "metadata": {
    "collapsed": false
   }
  },
  {
   "cell_type": "code",
   "execution_count": 30,
   "outputs": [],
   "source": [
    "model = tf.keras.models.Sequential([\n",
    "    tf.keras.layers.Flatten(input_shape=(28, 28)),\n",
    "    tf.keras.layers.Dense(128, activation='relu'),\n",
    "    tf.keras.layers.Dropout(0.2),\n",
    "    tf.keras.layers.Dense(10)\n",
    "])"
   ],
   "metadata": {
    "collapsed": false
   }
  },
  {
   "cell_type": "markdown",
   "source": [
    "Test prediction"
   ],
   "metadata": {
    "collapsed": false
   }
  },
  {
   "cell_type": "code",
   "execution_count": 31,
   "outputs": [
    {
     "data": {
      "text/plain": "array([[ 0.4022084 , -0.51673263, -0.212406  ,  1.425642  ,  0.03383434,\n         0.12788683, -0.12077716,  0.81728643, -0.89673066,  0.23254892]],\n      dtype=float32)"
     },
     "execution_count": 31,
     "metadata": {},
     "output_type": "execute_result"
    }
   ],
   "source": [
    "predictions = model(x_train[:1]).numpy()\n",
    "predictions"
   ],
   "metadata": {
    "collapsed": false
   }
  },
  {
   "cell_type": "markdown",
   "source": [
    "Make probabilities from this output"
   ],
   "metadata": {
    "collapsed": false
   }
  },
  {
   "cell_type": "code",
   "execution_count": 32,
   "outputs": [
    {
     "data": {
      "text/plain": "array([[0.10640019, 0.04244743, 0.05754647, 0.29608333, 0.07361386,\n        0.08087346, 0.06306852, 0.1611419 , 0.02902821, 0.08979667]],\n      dtype=float32)"
     },
     "execution_count": 32,
     "metadata": {},
     "output_type": "execute_result"
    }
   ],
   "source": [
    "tf.nn.softmax(predictions).numpy()"
   ],
   "metadata": {
    "collapsed": false
   }
  },
  {
   "cell_type": "markdown",
   "source": [
    "Define a loos functon for train"
   ],
   "metadata": {
    "collapsed": false
   }
  },
  {
   "cell_type": "code",
   "execution_count": 33,
   "outputs": [],
   "source": [
    "loss_fn = tf.keras.losses.SparseCategoricalCrossentropy(from_logits=True)"
   ],
   "metadata": {
    "collapsed": false
   }
  },
  {
   "cell_type": "markdown",
   "source": [
    "Loss is zero if model confident of the correct class\n",
    "\n",
    "Model not trained, so the probs will be random (something like 1/10 for each class), then loss will be closer to `log(1/10) ~= 2.3`\n",
    "Let's watch)"
   ],
   "metadata": {
    "collapsed": false
   }
  },
  {
   "cell_type": "code",
   "execution_count": 34,
   "outputs": [
    {
     "data": {
      "text/plain": "2.5148697"
     },
     "execution_count": 34,
     "metadata": {},
     "output_type": "execute_result"
    }
   ],
   "source": [
    "loss_fn(y_train[:1], predictions).numpy()"
   ],
   "metadata": {
    "collapsed": false
   }
  },
  {
   "cell_type": "markdown",
   "source": [
    "Compile model"
   ],
   "metadata": {
    "collapsed": false
   }
  },
  {
   "cell_type": "code",
   "execution_count": 35,
   "outputs": [],
   "source": [
    "model.compile(optimizer='adam',\n",
    "              loss=loss_fn,\n",
    "              metrics=['accuracy'])"
   ],
   "metadata": {
    "collapsed": false
   }
  },
  {
   "cell_type": "markdown",
   "source": [
    "Train model!)\n",
    "Start training with 5 epochs"
   ],
   "metadata": {
    "collapsed": false
   }
  },
  {
   "cell_type": "code",
   "execution_count": 36,
   "outputs": [
    {
     "name": "stdout",
     "output_type": "stream",
     "text": [
      "Epoch 1/5\n",
      "1875/1875 [==============================] - 7s 3ms/step - loss: 0.2963 - accuracy: 0.9130\n",
      "Epoch 2/5\n",
      "1875/1875 [==============================] - 6s 3ms/step - loss: 0.1436 - accuracy: 0.9575\n",
      "Epoch 3/5\n",
      "1875/1875 [==============================] - 6s 3ms/step - loss: 0.1062 - accuracy: 0.9682\n",
      "Epoch 4/5\n",
      "1875/1875 [==============================] - 6s 3ms/step - loss: 0.0866 - accuracy: 0.9729\n",
      "Epoch 5/5\n",
      "1875/1875 [==============================] - 6s 3ms/step - loss: 0.0741 - accuracy: 0.9768\n"
     ]
    },
    {
     "data": {
      "text/plain": "<keras.callbacks.History at 0x7fd24c2b59f0>"
     },
     "execution_count": 36,
     "metadata": {},
     "output_type": "execute_result"
    }
   ],
   "source": [
    "model.fit(x_train, y_train, epochs=5)"
   ],
   "metadata": {
    "collapsed": false
   }
  },
  {
   "cell_type": "markdown",
   "source": [
    "Fine! Let's try more epochs, for example 15"
   ],
   "metadata": {
    "collapsed": false
   }
  },
  {
   "cell_type": "code",
   "execution_count": 37,
   "outputs": [
    {
     "name": "stdout",
     "output_type": "stream",
     "text": [
      "Epoch 1/15\n",
      "1875/1875 [==============================] - 6s 3ms/step - loss: 0.0654 - accuracy: 0.9794\n",
      "Epoch 2/15\n",
      "1875/1875 [==============================] - 6s 3ms/step - loss: 0.0578 - accuracy: 0.9812\n",
      "Epoch 3/15\n",
      "1875/1875 [==============================] - 6s 3ms/step - loss: 0.0512 - accuracy: 0.9833\n",
      "Epoch 4/15\n",
      "1875/1875 [==============================] - 6s 3ms/step - loss: 0.0455 - accuracy: 0.9849\n",
      "Epoch 5/15\n",
      "1875/1875 [==============================] - 6s 3ms/step - loss: 0.0443 - accuracy: 0.9852\n",
      "Epoch 6/15\n",
      "1875/1875 [==============================] - 6s 3ms/step - loss: 0.0415 - accuracy: 0.9861\n",
      "Epoch 7/15\n",
      "1875/1875 [==============================] - 6s 3ms/step - loss: 0.0368 - accuracy: 0.9871\n",
      "Epoch 8/15\n",
      "1875/1875 [==============================] - 6s 3ms/step - loss: 0.0356 - accuracy: 0.9877\n",
      "Epoch 9/15\n",
      "1875/1875 [==============================] - 6s 3ms/step - loss: 0.0348 - accuracy: 0.9882\n",
      "Epoch 10/15\n",
      "1875/1875 [==============================] - 6s 3ms/step - loss: 0.0307 - accuracy: 0.9896\n",
      "Epoch 11/15\n",
      "1875/1875 [==============================] - 6s 3ms/step - loss: 0.0300 - accuracy: 0.9897\n",
      "Epoch 12/15\n",
      "1875/1875 [==============================] - 6s 3ms/step - loss: 0.0302 - accuracy: 0.9897\n",
      "Epoch 13/15\n",
      "1875/1875 [==============================] - 6s 3ms/step - loss: 0.0292 - accuracy: 0.9899\n",
      "Epoch 14/15\n",
      "1875/1875 [==============================] - 6s 3ms/step - loss: 0.0278 - accuracy: 0.9901\n",
      "Epoch 15/15\n",
      "1875/1875 [==============================] - 6s 3ms/step - loss: 0.0271 - accuracy: 0.9907\n"
     ]
    },
    {
     "data": {
      "text/plain": "<keras.callbacks.History at 0x7fd20b131b10>"
     },
     "execution_count": 37,
     "metadata": {},
     "output_type": "execute_result"
    }
   ],
   "source": [
    "model.fit(x_train, y_train, epochs=15)"
   ],
   "metadata": {
    "collapsed": false
   }
  },
  {
   "cell_type": "markdown",
   "source": [
    "I want to overfit this model, interesting how more epochs need?"
   ],
   "metadata": {
    "collapsed": false
   }
  },
  {
   "cell_type": "code",
   "execution_count": 54,
   "outputs": [
    {
     "name": "stdout",
     "output_type": "stream",
     "text": [
      "1875/1875 [==============================] - 7s 4ms/step - loss: 0.0104 - accuracy: 0.9969 - val_loss: 0.1811 - val_accuracy: 0.9793\n",
      "Epoch 36/100\n",
      "1875/1875 [==============================] - 7s 4ms/step - loss: 0.0092 - accuracy: 0.9972 - val_loss: 0.1880 - val_accuracy: 0.9804\n",
      "Epoch 37/100\n",
      "1875/1875 [==============================] - 7s 4ms/step - loss: 0.0119 - accuracy: 0.9965 - val_loss: 0.1790 - val_accuracy: 0.9803\n",
      "Epoch 38/100\n",
      "1875/1875 [==============================] - 7s 4ms/step - loss: 0.0116 - accuracy: 0.9969 - val_loss: 0.1810 - val_accuracy: 0.9811\n",
      "Epoch 39/100\n",
      "1875/1875 [==============================] - 7s 4ms/step - loss: 0.0091 - accuracy: 0.9974 - val_loss: 0.1693 - val_accuracy: 0.9804\n",
      "Epoch 40/100\n",
      "1875/1875 [==============================] - 7s 4ms/step - loss: 0.0099 - accuracy: 0.9971 - val_loss: 0.1782 - val_accuracy: 0.9801\n",
      "Epoch 41/100\n",
      "1875/1875 [==============================] - 6s 3ms/step - loss: 0.0092 - accuracy: 0.9971 - val_loss: 0.1766 - val_accuracy: 0.9804\n",
      "Epoch 42/100\n",
      "1875/1875 [==============================] - 7s 4ms/step - loss: 0.0092 - accuracy: 0.9972 - val_loss: 0.1869 - val_accuracy: 0.9800\n",
      "Epoch 43/100\n",
      "1875/1875 [==============================] - 7s 4ms/step - loss: 0.0102 - accuracy: 0.9971 - val_loss: 0.1807 - val_accuracy: 0.9821\n",
      "Epoch 44/100\n",
      "1875/1875 [==============================] - 7s 3ms/step - loss: 0.0096 - accuracy: 0.9970 - val_loss: 0.1776 - val_accuracy: 0.9808\n",
      "Epoch 45/100\n",
      "1875/1875 [==============================] - 7s 4ms/step - loss: 0.0083 - accuracy: 0.9973 - val_loss: 0.1898 - val_accuracy: 0.9804\n",
      "Epoch 46/100\n",
      "1875/1875 [==============================] - 7s 4ms/step - loss: 0.0095 - accuracy: 0.9972 - val_loss: 0.1889 - val_accuracy: 0.9807\n",
      "Epoch 47/100\n",
      "1875/1875 [==============================] - 6s 3ms/step - loss: 0.0106 - accuracy: 0.9969 - val_loss: 0.1808 - val_accuracy: 0.9799\n",
      "Epoch 48/100\n",
      "1875/1875 [==============================] - 7s 4ms/step - loss: 0.0097 - accuracy: 0.9972 - val_loss: 0.1808 - val_accuracy: 0.9799\n",
      "Epoch 49/100\n",
      "1875/1875 [==============================] - 7s 4ms/step - loss: 0.0108 - accuracy: 0.9970 - val_loss: 0.1704 - val_accuracy: 0.9807\n",
      "Epoch 50/100\n",
      "1875/1875 [==============================] - 7s 4ms/step - loss: 0.0091 - accuracy: 0.9970 - val_loss: 0.2030 - val_accuracy: 0.9790\n",
      "Epoch 51/100\n",
      "1875/1875 [==============================] - 7s 4ms/step - loss: 0.0103 - accuracy: 0.9970 - val_loss: 0.1850 - val_accuracy: 0.9806\n",
      "Epoch 52/100\n",
      "1875/1875 [==============================] - 6s 3ms/step - loss: 0.0101 - accuracy: 0.9972 - val_loss: 0.1748 - val_accuracy: 0.9805\n",
      "Epoch 53/100\n",
      "1875/1875 [==============================] - 7s 4ms/step - loss: 0.0090 - accuracy: 0.9972 - val_loss: 0.1844 - val_accuracy: 0.9806\n",
      "Epoch 54/100\n",
      "1875/1875 [==============================] - 7s 4ms/step - loss: 0.0094 - accuracy: 0.9973 - val_loss: 0.1946 - val_accuracy: 0.9804\n",
      "Epoch 55/100\n",
      "1875/1875 [==============================] - 7s 4ms/step - loss: 0.0090 - accuracy: 0.9972 - val_loss: 0.1941 - val_accuracy: 0.9807\n",
      "Epoch 56/100\n",
      "1875/1875 [==============================] - 7s 3ms/step - loss: 0.0095 - accuracy: 0.9971 - val_loss: 0.1864 - val_accuracy: 0.9805\n",
      "Epoch 57/100\n",
      "1875/1875 [==============================] - 7s 4ms/step - loss: 0.0087 - accuracy: 0.9975 - val_loss: 0.1868 - val_accuracy: 0.9802\n",
      "Epoch 58/100\n",
      "1875/1875 [==============================] - 7s 4ms/step - loss: 0.0107 - accuracy: 0.9971 - val_loss: 0.1825 - val_accuracy: 0.9804\n",
      "Epoch 59/100\n",
      "1875/1875 [==============================] - 7s 4ms/step - loss: 0.0097 - accuracy: 0.9969 - val_loss: 0.1905 - val_accuracy: 0.9811\n",
      "Epoch 60/100\n",
      "1875/1875 [==============================] - 7s 4ms/step - loss: 0.0095 - accuracy: 0.9971 - val_loss: 0.1794 - val_accuracy: 0.9817\n",
      "Epoch 61/100\n",
      "1875/1875 [==============================] - 7s 4ms/step - loss: 0.0096 - accuracy: 0.9971 - val_loss: 0.1873 - val_accuracy: 0.9797\n",
      "Epoch 62/100\n",
      "1875/1875 [==============================] - 7s 4ms/step - loss: 0.0086 - accuracy: 0.9974 - val_loss: 0.1965 - val_accuracy: 0.9794\n",
      "Epoch 63/100\n",
      "1875/1875 [==============================] - 7s 4ms/step - loss: 0.0090 - accuracy: 0.9975 - val_loss: 0.1904 - val_accuracy: 0.9802\n",
      "Epoch 64/100\n",
      "1875/1875 [==============================] - 6s 3ms/step - loss: 0.0081 - accuracy: 0.9976 - val_loss: 0.1946 - val_accuracy: 0.9801\n",
      "Epoch 65/100\n",
      "1875/1875 [==============================] - 7s 4ms/step - loss: 0.0095 - accuracy: 0.9974 - val_loss: 0.2064 - val_accuracy: 0.9800\n",
      "Epoch 66/100\n",
      "1875/1875 [==============================] - 7s 4ms/step - loss: 0.0094 - accuracy: 0.9971 - val_loss: 0.1840 - val_accuracy: 0.9818\n",
      "Epoch 67/100\n",
      "1875/1875 [==============================] - 7s 4ms/step - loss: 0.0100 - accuracy: 0.9971 - val_loss: 0.1928 - val_accuracy: 0.9806\n",
      "Epoch 68/100\n",
      "1875/1875 [==============================] - 6s 3ms/step - loss: 0.0087 - accuracy: 0.9973 - val_loss: 0.1785 - val_accuracy: 0.9817\n",
      "Epoch 69/100\n",
      "1875/1875 [==============================] - 6s 3ms/step - loss: 0.0076 - accuracy: 0.9977 - val_loss: 0.2035 - val_accuracy: 0.9800\n",
      "Epoch 70/100\n",
      "1875/1875 [==============================] - 7s 4ms/step - loss: 0.0072 - accuracy: 0.9978 - val_loss: 0.1962 - val_accuracy: 0.9823\n",
      "Epoch 71/100\n",
      "1875/1875 [==============================] - 6s 3ms/step - loss: 0.0090 - accuracy: 0.9975 - val_loss: 0.1882 - val_accuracy: 0.9806\n",
      "Epoch 72/100\n",
      "1875/1875 [==============================] - 7s 4ms/step - loss: 0.0097 - accuracy: 0.9971 - val_loss: 0.1880 - val_accuracy: 0.9818\n",
      "Epoch 73/100\n",
      "1875/1875 [==============================] - 6s 3ms/step - loss: 0.0094 - accuracy: 0.9971 - val_loss: 0.2000 - val_accuracy: 0.9806\n",
      "Epoch 74/100\n",
      "1875/1875 [==============================] - 7s 4ms/step - loss: 0.0089 - accuracy: 0.9975 - val_loss: 0.2000 - val_accuracy: 0.9808\n",
      "Epoch 75/100\n",
      "1875/1875 [==============================] - 7s 4ms/step - loss: 0.0096 - accuracy: 0.9974 - val_loss: 0.1909 - val_accuracy: 0.9809\n",
      "Epoch 76/100\n",
      "1875/1875 [==============================] - 7s 4ms/step - loss: 0.0089 - accuracy: 0.9973 - val_loss: 0.1973 - val_accuracy: 0.9806\n",
      "Epoch 77/100\n",
      "1875/1875 [==============================] - 7s 4ms/step - loss: 0.0095 - accuracy: 0.9974 - val_loss: 0.1905 - val_accuracy: 0.9816\n",
      "Epoch 78/100\n",
      "1875/1875 [==============================] - 7s 4ms/step - loss: 0.0090 - accuracy: 0.9974 - val_loss: 0.1880 - val_accuracy: 0.9789\n",
      "Epoch 79/100\n",
      "1875/1875 [==============================] - 7s 4ms/step - loss: 0.0095 - accuracy: 0.9973 - val_loss: 0.1962 - val_accuracy: 0.9806\n",
      "Epoch 80/100\n",
      "1875/1875 [==============================] - 6s 3ms/step - loss: 0.0092 - accuracy: 0.9973 - val_loss: 0.2017 - val_accuracy: 0.9811\n",
      "Epoch 81/100\n",
      "1875/1875 [==============================] - 7s 4ms/step - loss: 0.0079 - accuracy: 0.9976 - val_loss: 0.2068 - val_accuracy: 0.9791\n",
      "Epoch 82/100\n",
      "1875/1875 [==============================] - 7s 3ms/step - loss: 0.0092 - accuracy: 0.9973 - val_loss: 0.1962 - val_accuracy: 0.9799\n",
      "Epoch 83/100\n",
      "1875/1875 [==============================] - 6s 3ms/step - loss: 0.0077 - accuracy: 0.9978 - val_loss: 0.2042 - val_accuracy: 0.9814\n",
      "Epoch 84/100\n",
      "1875/1875 [==============================] - 7s 4ms/step - loss: 0.0087 - accuracy: 0.9973 - val_loss: 0.2025 - val_accuracy: 0.9806\n",
      "Epoch 85/100\n",
      "1875/1875 [==============================] - 6s 3ms/step - loss: 0.0085 - accuracy: 0.9979 - val_loss: 0.2163 - val_accuracy: 0.9792\n",
      "Epoch 86/100\n",
      "1875/1875 [==============================] - 7s 4ms/step - loss: 0.0083 - accuracy: 0.9975 - val_loss: 0.2042 - val_accuracy: 0.9798\n",
      "Epoch 87/100\n",
      "1875/1875 [==============================] - 7s 4ms/step - loss: 0.0098 - accuracy: 0.9969 - val_loss: 0.1960 - val_accuracy: 0.9805\n",
      "Epoch 88/100\n",
      "1875/1875 [==============================] - 7s 4ms/step - loss: 0.0085 - accuracy: 0.9977 - val_loss: 0.1996 - val_accuracy: 0.9807\n",
      "Epoch 89/100\n",
      "1875/1875 [==============================] - 7s 4ms/step - loss: 0.0096 - accuracy: 0.9972 - val_loss: 0.2107 - val_accuracy: 0.9805\n",
      "Epoch 90/100\n",
      "1875/1875 [==============================] - 7s 4ms/step - loss: 0.0101 - accuracy: 0.9970 - val_loss: 0.2053 - val_accuracy: 0.9799\n",
      "Epoch 91/100\n",
      "1875/1875 [==============================] - 7s 4ms/step - loss: 0.0091 - accuracy: 0.9972 - val_loss: 0.2104 - val_accuracy: 0.9800\n",
      "Epoch 92/100\n",
      "1875/1875 [==============================] - 7s 4ms/step - loss: 0.0080 - accuracy: 0.9979 - val_loss: 0.2102 - val_accuracy: 0.9797\n",
      "Epoch 93/100\n",
      "1875/1875 [==============================] - 7s 4ms/step - loss: 0.0099 - accuracy: 0.9970 - val_loss: 0.1936 - val_accuracy: 0.9801\n",
      "Epoch 94/100\n",
      "1875/1875 [==============================] - 7s 4ms/step - loss: 0.0096 - accuracy: 0.9972 - val_loss: 0.2183 - val_accuracy: 0.9801\n",
      "Epoch 95/100\n",
      "1875/1875 [==============================] - 7s 4ms/step - loss: 0.0081 - accuracy: 0.9976 - val_loss: 0.2058 - val_accuracy: 0.9807\n",
      "Epoch 96/100\n",
      "1875/1875 [==============================] - 6s 3ms/step - loss: 0.0092 - accuracy: 0.9973 - val_loss: 0.2029 - val_accuracy: 0.9791\n",
      "Epoch 97/100\n",
      "1875/1875 [==============================] - 6s 3ms/step - loss: 0.0097 - accuracy: 0.9973 - val_loss: 0.2201 - val_accuracy: 0.9796\n",
      "Epoch 98/100\n",
      "1875/1875 [==============================] - 6s 3ms/step - loss: 0.0088 - accuracy: 0.9977 - val_loss: 0.2108 - val_accuracy: 0.9805\n",
      "Epoch 99/100\n",
      "1875/1875 [==============================] - 6s 3ms/step - loss: 0.0085 - accuracy: 0.9976 - val_loss: 0.2149 - val_accuracy: 0.9791\n",
      "Epoch 100/100\n",
      "1875/1875 [==============================] - 6s 3ms/step - loss: 0.0085 - accuracy: 0.9977 - val_loss: 0.2146 - val_accuracy: 0.9810\n",
      "Epoch 1/30\n",
      "1875/1875 [==============================] - 7s 3ms/step - loss: 0.0086 - accuracy: 0.9977 - val_loss: 0.2252 - val_accuracy: 0.9809\n",
      "Epoch 2/30\n",
      "1875/1875 [==============================] - 6s 3ms/step - loss: 0.0094 - accuracy: 0.9971 - val_loss: 0.2295 - val_accuracy: 0.9794\n",
      "Epoch 3/30\n",
      "1875/1875 [==============================] - 7s 4ms/step - loss: 0.0089 - accuracy: 0.9974 - val_loss: 0.2217 - val_accuracy: 0.9791\n",
      "Epoch 4/30\n",
      "1875/1875 [==============================] - 7s 3ms/step - loss: 0.0087 - accuracy: 0.9973 - val_loss: 0.2404 - val_accuracy: 0.9802\n",
      "Epoch 5/30\n",
      "1875/1875 [==============================] - 6s 3ms/step - loss: 0.0086 - accuracy: 0.9977 - val_loss: 0.2134 - val_accuracy: 0.9799\n",
      "Epoch 6/30\n",
      "1875/1875 [==============================] - 6s 3ms/step - loss: 0.0087 - accuracy: 0.9974 - val_loss: 0.2063 - val_accuracy: 0.9808\n",
      "Epoch 7/30\n",
      "1875/1875 [==============================] - 6s 3ms/step - loss: 0.0077 - accuracy: 0.9979 - val_loss: 0.2105 - val_accuracy: 0.9807\n",
      "Epoch 8/30\n",
      "1875/1875 [==============================] - 6s 3ms/step - loss: 0.0075 - accuracy: 0.9977 - val_loss: 0.2228 - val_accuracy: 0.9802\n",
      "Epoch 9/30\n",
      "1875/1875 [==============================] - 6s 3ms/step - loss: 0.0100 - accuracy: 0.9975 - val_loss: 0.2182 - val_accuracy: 0.9791\n",
      "Epoch 10/30\n",
      "1875/1875 [==============================] - 6s 3ms/step - loss: 0.0098 - accuracy: 0.9975 - val_loss: 0.2108 - val_accuracy: 0.9798\n",
      "Epoch 11/30\n",
      "1875/1875 [==============================] - 7s 4ms/step - loss: 0.0083 - accuracy: 0.9976 - val_loss: 0.2162 - val_accuracy: 0.9808\n",
      "Epoch 12/30\n",
      "1875/1875 [==============================] - 6s 3ms/step - loss: 0.0083 - accuracy: 0.9976 - val_loss: 0.2206 - val_accuracy: 0.9813\n",
      "Epoch 13/30\n",
      "1875/1875 [==============================] - 6s 3ms/step - loss: 0.0080 - accuracy: 0.9976 - val_loss: 0.2124 - val_accuracy: 0.9804\n",
      "Epoch 14/30\n",
      "1875/1875 [==============================] - 6s 3ms/step - loss: 0.0080 - accuracy: 0.9974 - val_loss: 0.2248 - val_accuracy: 0.9821\n",
      "Epoch 15/30\n",
      "1875/1875 [==============================] - 6s 3ms/step - loss: 0.0092 - accuracy: 0.9974 - val_loss: 0.2002 - val_accuracy: 0.9809\n",
      "Epoch 16/30\n",
      "1875/1875 [==============================] - 6s 3ms/step - loss: 0.0081 - accuracy: 0.9975 - val_loss: 0.2149 - val_accuracy: 0.9796\n",
      "Epoch 17/30\n",
      "1875/1875 [==============================] - 6s 3ms/step - loss: 0.0073 - accuracy: 0.9976 - val_loss: 0.2301 - val_accuracy: 0.9803\n",
      "Epoch 18/30\n",
      "1875/1875 [==============================] - 7s 4ms/step - loss: 0.0090 - accuracy: 0.9975 - val_loss: 0.2259 - val_accuracy: 0.9800\n",
      "Epoch 19/30\n",
      "1875/1875 [==============================] - 6s 3ms/step - loss: 0.0080 - accuracy: 0.9978 - val_loss: 0.2140 - val_accuracy: 0.9801\n",
      "Epoch 20/30\n",
      "1875/1875 [==============================] - 6s 3ms/step - loss: 0.0097 - accuracy: 0.9974 - val_loss: 0.2358 - val_accuracy: 0.9789\n",
      "Epoch 21/30\n",
      "1875/1875 [==============================] - 6s 3ms/step - loss: 0.0080 - accuracy: 0.9976 - val_loss: 0.2299 - val_accuracy: 0.9792\n",
      "Epoch 22/30\n",
      "1875/1875 [==============================] - 6s 3ms/step - loss: 0.0095 - accuracy: 0.9973 - val_loss: 0.2159 - val_accuracy: 0.9805\n",
      "Epoch 23/30\n",
      "1875/1875 [==============================] - 6s 3ms/step - loss: 0.0074 - accuracy: 0.9980 - val_loss: 0.2170 - val_accuracy: 0.9791\n",
      "Epoch 24/30\n",
      "1875/1875 [==============================] - 6s 3ms/step - loss: 0.0081 - accuracy: 0.9976 - val_loss: 0.2145 - val_accuracy: 0.9808\n",
      "Epoch 25/30\n",
      "1875/1875 [==============================] - 6s 3ms/step - loss: 0.0090 - accuracy: 0.9975 - val_loss: 0.2168 - val_accuracy: 0.9801\n",
      "Epoch 26/30\n",
      "1875/1875 [==============================] - 6s 3ms/step - loss: 0.0105 - accuracy: 0.9973 - val_loss: 0.2072 - val_accuracy: 0.9815\n",
      "Epoch 27/30\n",
      "1875/1875 [==============================] - 7s 4ms/step - loss: 0.0102 - accuracy: 0.9973 - val_loss: 0.2170 - val_accuracy: 0.9812\n",
      "Epoch 28/30\n",
      "1875/1875 [==============================] - 6s 3ms/step - loss: 0.0080 - accuracy: 0.9976 - val_loss: 0.2136 - val_accuracy: 0.9802\n",
      "Epoch 29/30\n",
      "1875/1875 [==============================] - 6s 3ms/step - loss: 0.0084 - accuracy: 0.9977 - val_loss: 0.2168 - val_accuracy: 0.9792\n",
      "Epoch 30/30\n",
      "1875/1875 [==============================] - 7s 4ms/step - loss: 0.0100 - accuracy: 0.9972 - val_loss: 0.2117 - val_accuracy: 0.9799\n",
      "Epoch 1/30\n",
      "1875/1875 [==============================] - 7s 4ms/step - loss: 0.0080 - accuracy: 0.9983 - val_loss: 0.3275 - val_accuracy: 0.9798\n",
      "Epoch 2/30\n",
      "1875/1875 [==============================] - 6s 3ms/step - loss: 0.0073 - accuracy: 0.9984 - val_loss: 0.3782 - val_accuracy: 0.9797\n",
      "Epoch 3/30\n",
      "1875/1875 [==============================] - 6s 3ms/step - loss: 0.0071 - accuracy: 0.9984 - val_loss: 0.3608 - val_accuracy: 0.9784\n",
      "Epoch 4/30\n",
      "1875/1875 [==============================] - 7s 3ms/step - loss: 0.0067 - accuracy: 0.9984 - val_loss: 0.3464 - val_accuracy: 0.9795\n",
      "Epoch 5/30\n",
      "1875/1875 [==============================] - 7s 4ms/step - loss: 0.0065 - accuracy: 0.9983 - val_loss: 0.3276 - val_accuracy: 0.9805\n",
      "Epoch 6/30\n",
      "1875/1875 [==============================] - 7s 4ms/step - loss: 0.0066 - accuracy: 0.9984 - val_loss: 0.3362 - val_accuracy: 0.9796\n",
      "Epoch 7/30\n",
      "1875/1875 [==============================] - 6s 3ms/step - loss: 0.0070 - accuracy: 0.9984 - val_loss: 0.3307 - val_accuracy: 0.9789\n",
      "Epoch 8/30\n",
      "1875/1875 [==============================] - 7s 4ms/step - loss: 0.0063 - accuracy: 0.9983 - val_loss: 0.3575 - val_accuracy: 0.9798\n",
      "Epoch 9/30\n",
      "1875/1875 [==============================] - 7s 3ms/step - loss: 0.0075 - accuracy: 0.9981 - val_loss: 0.3526 - val_accuracy: 0.9785\n",
      "Epoch 10/30\n",
      "1875/1875 [==============================] - 7s 4ms/step - loss: 0.0088 - accuracy: 0.9981 - val_loss: 0.3559 - val_accuracy: 0.9801\n",
      "Epoch 11/30\n",
      "1875/1875 [==============================] - 7s 4ms/step - loss: 0.0069 - accuracy: 0.9987 - val_loss: 0.3524 - val_accuracy: 0.9806\n",
      "Epoch 12/30\n",
      "1875/1875 [==============================] - 7s 4ms/step - loss: 0.0075 - accuracy: 0.9983 - val_loss: 0.3545 - val_accuracy: 0.9791\n",
      "Epoch 13/30\n",
      "1875/1875 [==============================] - 7s 4ms/step - loss: 0.0090 - accuracy: 0.9980 - val_loss: 0.3675 - val_accuracy: 0.9778\n",
      "Epoch 14/30\n",
      "1875/1875 [==============================] - 7s 4ms/step - loss: 0.0066 - accuracy: 0.9984 - val_loss: 0.3731 - val_accuracy: 0.9776\n",
      "Epoch 15/30\n",
      "1875/1875 [==============================] - 7s 4ms/step - loss: 0.0093 - accuracy: 0.9978 - val_loss: 0.3642 - val_accuracy: 0.9786\n",
      "Epoch 16/30\n",
      "1875/1875 [==============================] - 7s 4ms/step - loss: 0.0064 - accuracy: 0.9982 - val_loss: 0.3900 - val_accuracy: 0.9777\n",
      "Epoch 17/30\n",
      "1875/1875 [==============================] - 6s 3ms/step - loss: 0.0079 - accuracy: 0.9986 - val_loss: 0.3678 - val_accuracy: 0.9788\n",
      "Epoch 18/30\n",
      "1875/1875 [==============================] - 7s 4ms/step - loss: 0.0078 - accuracy: 0.9979 - val_loss: 0.3699 - val_accuracy: 0.9778\n",
      "Epoch 19/30\n",
      "1875/1875 [==============================] - 7s 4ms/step - loss: 0.0061 - accuracy: 0.9983 - val_loss: 0.3560 - val_accuracy: 0.9802\n",
      "Epoch 20/30\n",
      "1875/1875 [==============================] - 7s 4ms/step - loss: 0.0054 - accuracy: 0.9985 - val_loss: 0.3811 - val_accuracy: 0.9776\n",
      "Epoch 21/30\n",
      "1875/1875 [==============================] - 7s 4ms/step - loss: 0.0087 - accuracy: 0.9980 - val_loss: 0.3884 - val_accuracy: 0.9777\n",
      "Epoch 22/30\n",
      "1875/1875 [==============================] - 6s 3ms/step - loss: 0.0080 - accuracy: 0.9980 - val_loss: 0.3588 - val_accuracy: 0.9796\n",
      "Epoch 23/30\n",
      "1875/1875 [==============================] - 7s 4ms/step - loss: 0.0084 - accuracy: 0.9981 - val_loss: 0.3547 - val_accuracy: 0.9793\n",
      "Epoch 24/30\n",
      "1875/1875 [==============================] - 7s 4ms/step - loss: 0.0065 - accuracy: 0.9984 - val_loss: 0.3788 - val_accuracy: 0.9787\n",
      "Epoch 25/30\n",
      "1875/1875 [==============================] - 7s 4ms/step - loss: 0.0052 - accuracy: 0.9986 - val_loss: 0.3743 - val_accuracy: 0.9783\n",
      "Epoch 26/30\n",
      "1875/1875 [==============================] - 6s 3ms/step - loss: 0.0075 - accuracy: 0.9983 - val_loss: 0.3566 - val_accuracy: 0.9787\n",
      "Epoch 27/30\n",
      "1875/1875 [==============================] - 7s 4ms/step - loss: 0.0063 - accuracy: 0.9984 - val_loss: 0.3543 - val_accuracy: 0.9791\n",
      "Epoch 28/30\n",
      "1875/1875 [==============================] - 7s 4ms/step - loss: 0.0073 - accuracy: 0.9983 - val_loss: 0.3921 - val_accuracy: 0.9777\n",
      "Epoch 29/30\n",
      "1875/1875 [==============================] - 6s 3ms/step - loss: 0.0064 - accuracy: 0.9983 - val_loss: 0.3644 - val_accuracy: 0.9786\n",
      "Epoch 30/30\n",
      "1875/1875 [==============================] - 7s 4ms/step - loss: 0.0070 - accuracy: 0.9985 - val_loss: 0.3625 - val_accuracy: 0.9793\n",
      "Epoch 1/30\n",
      "1875/1875 [==============================] - 7s 4ms/step - loss: 0.0080 - accuracy: 0.9984 - val_loss: 0.3232 - val_accuracy: 0.9801\n",
      "Epoch 2/30\n",
      "1875/1875 [==============================] - 7s 4ms/step - loss: 0.0063 - accuracy: 0.9983 - val_loss: 0.3616 - val_accuracy: 0.9798\n",
      "Epoch 3/30\n",
      "1875/1875 [==============================] - 7s 4ms/step - loss: 0.0072 - accuracy: 0.9983 - val_loss: 0.3685 - val_accuracy: 0.9797\n",
      "Epoch 4/30\n",
      "1875/1875 [==============================] - 7s 4ms/step - loss: 0.0065 - accuracy: 0.9984 - val_loss: 0.3896 - val_accuracy: 0.9787\n",
      "Epoch 5/30\n",
      "1875/1875 [==============================] - 7s 3ms/step - loss: 0.0093 - accuracy: 0.9981 - val_loss: 0.3645 - val_accuracy: 0.9804\n",
      "Epoch 6/30\n",
      "1875/1875 [==============================] - 7s 4ms/step - loss: 0.0066 - accuracy: 0.9985 - val_loss: 0.3580 - val_accuracy: 0.9789\n",
      "Epoch 7/30\n",
      "1875/1875 [==============================] - 7s 4ms/step - loss: 0.0083 - accuracy: 0.9980 - val_loss: 0.3777 - val_accuracy: 0.9784\n",
      "Epoch 8/30\n",
      "1875/1875 [==============================] - 7s 4ms/step - loss: 0.0069 - accuracy: 0.9983 - val_loss: 0.3713 - val_accuracy: 0.9794\n",
      "Epoch 9/30\n",
      "1875/1875 [==============================] - 7s 4ms/step - loss: 0.0051 - accuracy: 0.9987 - val_loss: 0.3962 - val_accuracy: 0.9786\n",
      "Epoch 10/30\n",
      "1875/1875 [==============================] - 7s 3ms/step - loss: 0.0080 - accuracy: 0.9984 - val_loss: 0.4019 - val_accuracy: 0.9771\n",
      "Epoch 11/30\n",
      "1875/1875 [==============================] - 7s 3ms/step - loss: 0.0060 - accuracy: 0.9986 - val_loss: 0.3813 - val_accuracy: 0.9789\n",
      "Epoch 12/30\n",
      "1875/1875 [==============================] - 7s 4ms/step - loss: 0.0064 - accuracy: 0.9982 - val_loss: 0.3660 - val_accuracy: 0.9785\n",
      "Epoch 13/30\n",
      "1875/1875 [==============================] - 7s 4ms/step - loss: 0.0072 - accuracy: 0.9982 - val_loss: 0.3680 - val_accuracy: 0.9792\n",
      "Epoch 14/30\n",
      "1875/1875 [==============================] - 7s 4ms/step - loss: 0.0076 - accuracy: 0.9983 - val_loss: 0.3648 - val_accuracy: 0.9789\n",
      "Epoch 15/30\n",
      "1875/1875 [==============================] - 6s 3ms/step - loss: 0.0084 - accuracy: 0.9982 - val_loss: 0.3846 - val_accuracy: 0.9789\n",
      "Epoch 16/30\n",
      "1875/1875 [==============================] - 7s 4ms/step - loss: 0.0075 - accuracy: 0.9983 - val_loss: 0.3773 - val_accuracy: 0.9790\n",
      "Epoch 17/30\n",
      "1875/1875 [==============================] - 6s 3ms/step - loss: 0.0067 - accuracy: 0.9984 - val_loss: 0.3893 - val_accuracy: 0.9785\n",
      "Epoch 18/30\n",
      "1875/1875 [==============================] - 6s 3ms/step - loss: 0.0083 - accuracy: 0.9983 - val_loss: 0.3687 - val_accuracy: 0.9802\n",
      "Epoch 19/30\n",
      "1875/1875 [==============================] - 7s 4ms/step - loss: 0.0068 - accuracy: 0.9983 - val_loss: 0.3958 - val_accuracy: 0.9778\n",
      "Epoch 20/30\n",
      "1875/1875 [==============================] - 7s 4ms/step - loss: 0.0064 - accuracy: 0.9984 - val_loss: 0.3764 - val_accuracy: 0.9798\n",
      "Epoch 21/30\n",
      "1875/1875 [==============================] - 7s 4ms/step - loss: 0.0083 - accuracy: 0.9983 - val_loss: 0.3921 - val_accuracy: 0.9776\n",
      "Epoch 22/30\n",
      "1875/1875 [==============================] - 7s 4ms/step - loss: 0.0073 - accuracy: 0.9983 - val_loss: 0.3845 - val_accuracy: 0.9783\n",
      "Epoch 23/30\n",
      "1875/1875 [==============================] - 7s 4ms/step - loss: 0.0074 - accuracy: 0.9983 - val_loss: 0.3841 - val_accuracy: 0.9787\n",
      "Epoch 24/30\n",
      "1875/1875 [==============================] - 7s 4ms/step - loss: 0.0088 - accuracy: 0.9984 - val_loss: 0.3548 - val_accuracy: 0.9790\n",
      "Epoch 25/30\n",
      "1875/1875 [==============================] - 6s 3ms/step - loss: 0.0088 - accuracy: 0.9981 - val_loss: 0.3611 - val_accuracy: 0.9792\n",
      "Epoch 26/30\n",
      "1875/1875 [==============================] - 7s 4ms/step - loss: 0.0080 - accuracy: 0.9982 - val_loss: 0.3684 - val_accuracy: 0.9793\n",
      "Epoch 27/30\n",
      "1875/1875 [==============================] - 6s 3ms/step - loss: 0.0082 - accuracy: 0.9981 - val_loss: 0.3567 - val_accuracy: 0.9789\n",
      "Epoch 28/30\n",
      "1875/1875 [==============================] - 6s 3ms/step - loss: 0.0063 - accuracy: 0.9984 - val_loss: 0.3794 - val_accuracy: 0.9776\n",
      "Epoch 29/30\n",
      "1875/1875 [==============================] - 6s 3ms/step - loss: 0.0076 - accuracy: 0.9983 - val_loss: 0.3618 - val_accuracy: 0.9798\n",
      "Epoch 30/30\n",
      "1875/1875 [==============================] - 6s 3ms/step - loss: 0.0058 - accuracy: 0.9985 - val_loss: 0.3709 - val_accuracy: 0.9791\n",
      "Epoch 1/30\n",
      "1875/1875 [==============================] - 7s 4ms/step - loss: 0.0076 - accuracy: 0.9984 - val_loss: 0.3777 - val_accuracy: 0.9797\n",
      "Epoch 2/30\n",
      "1875/1875 [==============================] - 7s 4ms/step - loss: 0.0089 - accuracy: 0.9980 - val_loss: 0.3655 - val_accuracy: 0.9783\n",
      "Epoch 3/30\n",
      "1875/1875 [==============================] - 6s 3ms/step - loss: 0.0065 - accuracy: 0.9984 - val_loss: 0.3755 - val_accuracy: 0.9782\n",
      "Epoch 4/30\n",
      "1875/1875 [==============================] - 7s 4ms/step - loss: 0.0073 - accuracy: 0.9983 - val_loss: 0.3389 - val_accuracy: 0.9792\n",
      "Epoch 5/30\n",
      "1875/1875 [==============================] - 7s 4ms/step - loss: 0.0068 - accuracy: 0.9985 - val_loss: 0.3641 - val_accuracy: 0.9787\n",
      "Epoch 6/30\n",
      "1875/1875 [==============================] - 7s 4ms/step - loss: 0.0064 - accuracy: 0.9985 - val_loss: 0.3822 - val_accuracy: 0.9779\n",
      "Epoch 7/30\n",
      "1875/1875 [==============================] - 7s 4ms/step - loss: 0.0065 - accuracy: 0.9986 - val_loss: 0.3970 - val_accuracy: 0.9794\n",
      "Epoch 8/30\n",
      "1875/1875 [==============================] - 7s 4ms/step - loss: 0.0075 - accuracy: 0.9981 - val_loss: 0.3881 - val_accuracy: 0.9782\n",
      "Epoch 9/30\n",
      "1875/1875 [==============================] - 7s 4ms/step - loss: 0.0088 - accuracy: 0.9982 - val_loss: 0.3737 - val_accuracy: 0.9795\n",
      "Epoch 10/30\n",
      "1875/1875 [==============================] - 7s 4ms/step - loss: 0.0059 - accuracy: 0.9985 - val_loss: 0.3764 - val_accuracy: 0.9789\n",
      "Epoch 11/30\n",
      "1875/1875 [==============================] - 7s 4ms/step - loss: 0.0065 - accuracy: 0.9985 - val_loss: 0.3853 - val_accuracy: 0.9781\n",
      "Epoch 12/30\n",
      "1875/1875 [==============================] - 7s 4ms/step - loss: 0.0072 - accuracy: 0.9983 - val_loss: 0.3644 - val_accuracy: 0.9790\n",
      "Epoch 13/30\n",
      "1875/1875 [==============================] - 7s 4ms/step - loss: 0.0071 - accuracy: 0.9983 - val_loss: 0.3852 - val_accuracy: 0.9771\n",
      "Epoch 14/30\n",
      "1875/1875 [==============================] - 6s 3ms/step - loss: 0.0073 - accuracy: 0.9985 - val_loss: 0.3750 - val_accuracy: 0.9781\n",
      "Epoch 15/30\n",
      "1875/1875 [==============================] - 6s 3ms/step - loss: 0.0066 - accuracy: 0.9984 - val_loss: 0.3766 - val_accuracy: 0.9786\n",
      "Epoch 16/30\n",
      "1875/1875 [==============================] - 6s 3ms/step - loss: 0.0073 - accuracy: 0.9983 - val_loss: 0.3930 - val_accuracy: 0.9788\n",
      "Epoch 17/30\n",
      "1875/1875 [==============================] - 6s 3ms/step - loss: 0.0086 - accuracy: 0.9981 - val_loss: 0.3918 - val_accuracy: 0.9787\n",
      "Epoch 18/30\n",
      "1875/1875 [==============================] - 6s 3ms/step - loss: 0.0080 - accuracy: 0.9982 - val_loss: 0.3940 - val_accuracy: 0.9787\n",
      "Epoch 19/30\n",
      "1875/1875 [==============================] - 7s 4ms/step - loss: 0.0074 - accuracy: 0.9984 - val_loss: 0.3846 - val_accuracy: 0.9786\n",
      "Epoch 20/30\n",
      "1875/1875 [==============================] - 6s 3ms/step - loss: 0.0051 - accuracy: 0.9985 - val_loss: 0.3659 - val_accuracy: 0.9787\n",
      "Epoch 21/30\n",
      "1875/1875 [==============================] - 7s 4ms/step - loss: 0.0075 - accuracy: 0.9983 - val_loss: 0.3835 - val_accuracy: 0.9788\n",
      "Epoch 22/30\n",
      "1875/1875 [==============================] - 7s 4ms/step - loss: 0.0076 - accuracy: 0.9983 - val_loss: 0.3742 - val_accuracy: 0.9793\n",
      "Epoch 23/30\n",
      "1875/1875 [==============================] - 7s 4ms/step - loss: 0.0070 - accuracy: 0.9984 - val_loss: 0.3974 - val_accuracy: 0.9780\n",
      "Epoch 24/30\n",
      "1875/1875 [==============================] - 6s 3ms/step - loss: 0.0066 - accuracy: 0.9983 - val_loss: 0.3987 - val_accuracy: 0.9781\n",
      "Epoch 25/30\n",
      "1875/1875 [==============================] - 6s 3ms/step - loss: 0.0075 - accuracy: 0.9986 - val_loss: 0.4194 - val_accuracy: 0.9786\n",
      "Epoch 26/30\n",
      "1875/1875 [==============================] - 7s 4ms/step - loss: 0.0080 - accuracy: 0.9982 - val_loss: 0.3942 - val_accuracy: 0.9785\n",
      "Epoch 27/30\n",
      "1875/1875 [==============================] - 7s 4ms/step - loss: 0.0069 - accuracy: 0.9986 - val_loss: 0.3877 - val_accuracy: 0.9786\n",
      "Epoch 28/30\n",
      "1875/1875 [==============================] - 6s 3ms/step - loss: 0.0077 - accuracy: 0.9982 - val_loss: 0.4166 - val_accuracy: 0.9792\n",
      "Epoch 29/30\n",
      "1875/1875 [==============================] - 7s 4ms/step - loss: 0.0072 - accuracy: 0.9983 - val_loss: 0.4072 - val_accuracy: 0.9785\n",
      "Epoch 30/30\n",
      "1875/1875 [==============================] - 7s 4ms/step - loss: 0.0073 - accuracy: 0.9984 - val_loss: 0.4099 - val_accuracy: 0.9776\n"
     ]
    }
   ],
   "source": [
    "history = model.fit(x_train, y_train, epochs=30, validation_data=(x_test, y_test))"
   ],
   "metadata": {
    "collapsed": false
   }
  },
  {
   "cell_type": "markdown",
   "source": [
    "Mnist is small dataset, and classes have not many features, but anyway we can see overfitting. Real accuracy decreases with increasing epochs after some point(E 20)"
   ],
   "metadata": {
    "collapsed": false
   }
  },
  {
   "cell_type": "markdown",
   "source": [
    "Get accuracy with other method"
   ],
   "metadata": {
    "collapsed": false
   }
  },
  {
   "cell_type": "code",
   "execution_count": 40,
   "outputs": [
    {
     "name": "stdout",
     "output_type": "stream",
     "text": [
      "313/313 - 1s - loss: 0.1349 - accuracy: 0.9802 - 539ms/epoch - 2ms/step\n"
     ]
    },
    {
     "data": {
      "text/plain": "[0.13492614030838013, 0.9801999926567078]"
     },
     "execution_count": 40,
     "metadata": {},
     "output_type": "execute_result"
    }
   ],
   "source": [
    "model.evaluate(x_test, y_test, verbose=2)"
   ],
   "metadata": {
    "collapsed": false
   }
  },
  {
   "cell_type": "markdown",
   "source": [
    "Look at the learning history"
   ],
   "metadata": {
    "collapsed": false
   }
  },
  {
   "cell_type": "code",
   "execution_count": 47,
   "outputs": [
    {
     "name": "stdout",
     "output_type": "stream",
     "text": [
      "dict_keys(['loss', 'accuracy', 'val_loss', 'val_accuracy'])\n"
     ]
    },
    {
     "data": {
      "text/plain": "<Figure size 640x480 with 1 Axes>",
      "image/png": "[encoded data removed]"
     },
     "metadata": {},
     "output_type": "display_data"
    }
   ],
   "source": [
    "from matplotlib import pyplot as plt\n",
    "\n",
    "plt.plot(history.history['accuracy'])\n",
    "plt.plot(history.history['val_accuracy'])\n",
    "plt.title('model fitting history')\n",
    "plt.xlabel('epoch')\n",
    "plt.legend(['train', 'validation'], loc='upper left')\n",
    "plt.show()"
   ],
   "metadata": {
    "collapsed": false
   }
  },
  {
   "cell_type": "code",
   "execution_count": 51,
   "outputs": [
    {
     "name": "stdout",
     "output_type": "stream",
     "text": [
      "Epoch 1/100\n",
      "1875/1875 [==============================] - 7s 4ms/step - loss: 0.0097 - accuracy: 0.9975 - val_loss: 0.2160 - val_accuracy: 0.9797\n",
      "Epoch 2/100\n",
      "1875/1875 [==============================] - 6s 3ms/step - loss: 0.0087 - accuracy: 0.9976 - val_loss: 0.2088 - val_accuracy: 0.9819\n",
      "Epoch 3/100\n",
      "1875/1875 [==============================] - 6s 3ms/step - loss: 0.0084 - accuracy: 0.9978 - val_loss: 0.2099 - val_accuracy: 0.9809\n",
      "Epoch 4/100\n",
      "1875/1875 [==============================] - 6s 3ms/step - loss: 0.0081 - accuracy: 0.9977 - val_loss: 0.2131 - val_accuracy: 0.9807\n",
      "Epoch 5/100\n",
      "1875/1875 [==============================] - 6s 3ms/step - loss: 0.0080 - accuracy: 0.9977 - val_loss: 0.2201 - val_accuracy: 0.9801\n",
      "Epoch 6/100\n",
      "1875/1875 [==============================] - 6s 3ms/step - loss: 0.0091 - accuracy: 0.9976 - val_loss: 0.2124 - val_accuracy: 0.9794\n",
      "Epoch 7/100\n",
      "1875/1875 [==============================] - 7s 4ms/step - loss: 0.0091 - accuracy: 0.9974 - val_loss: 0.2280 - val_accuracy: 0.9796\n",
      "Epoch 8/100\n",
      "1875/1875 [==============================] - 6s 3ms/step - loss: 0.0096 - accuracy: 0.9974 - val_loss: 0.2230 - val_accuracy: 0.9781\n",
      "Epoch 9/100\n",
      "1875/1875 [==============================] - 7s 4ms/step - loss: 0.0081 - accuracy: 0.9977 - val_loss: 0.2275 - val_accuracy: 0.9806\n",
      "Epoch 10/100\n",
      "1875/1875 [==============================] - 6s 3ms/step - loss: 0.0091 - accuracy: 0.9976 - val_loss: 0.2160 - val_accuracy: 0.9815\n",
      "Epoch 11/100\n",
      "1875/1875 [==============================] - 6s 3ms/step - loss: 0.0074 - accuracy: 0.9977 - val_loss: 0.2275 - val_accuracy: 0.9793\n",
      "Epoch 12/100\n",
      "1875/1875 [==============================] - 6s 3ms/step - loss: 0.0074 - accuracy: 0.9982 - val_loss: 0.2298 - val_accuracy: 0.9791\n",
      "Epoch 13/100\n",
      "1875/1875 [==============================] - 6s 3ms/step - loss: 0.0083 - accuracy: 0.9976 - val_loss: 0.2365 - val_accuracy: 0.9807\n",
      "Epoch 14/100\n",
      "1875/1875 [==============================] - 6s 3ms/step - loss: 0.0079 - accuracy: 0.9980 - val_loss: 0.2202 - val_accuracy: 0.9805\n",
      "Epoch 15/100\n",
      "1875/1875 [==============================] - 6s 3ms/step - loss: 0.0078 - accuracy: 0.9976 - val_loss: 0.2268 - val_accuracy: 0.9811\n",
      "Epoch 16/100\n",
      "1875/1875 [==============================] - 7s 4ms/step - loss: 0.0083 - accuracy: 0.9977 - val_loss: 0.2368 - val_accuracy: 0.9792\n",
      "Epoch 17/100\n",
      "1875/1875 [==============================] - 6s 3ms/step - loss: 0.0081 - accuracy: 0.9976 - val_loss: 0.2362 - val_accuracy: 0.9804\n",
      "Epoch 18/100\n",
      "1875/1875 [==============================] - 7s 3ms/step - loss: 0.0077 - accuracy: 0.9978 - val_loss: 0.2338 - val_accuracy: 0.9805\n",
      "Epoch 19/100\n",
      "1875/1875 [==============================] - 7s 3ms/step - loss: 0.0081 - accuracy: 0.9979 - val_loss: 0.2469 - val_accuracy: 0.9798\n",
      "Epoch 20/100\n",
      "1875/1875 [==============================] - 7s 4ms/step - loss: 0.0099 - accuracy: 0.9973 - val_loss: 0.2253 - val_accuracy: 0.9806\n",
      "Epoch 21/100\n",
      "1875/1875 [==============================] - 6s 3ms/step - loss: 0.0075 - accuracy: 0.9977 - val_loss: 0.2238 - val_accuracy: 0.9813\n",
      "Epoch 22/100\n",
      "1875/1875 [==============================] - 6s 3ms/step - loss: 0.0091 - accuracy: 0.9977 - val_loss: 0.2369 - val_accuracy: 0.9805\n",
      "Epoch 23/100\n",
      "1875/1875 [==============================] - 6s 3ms/step - loss: 0.0072 - accuracy: 0.9981 - val_loss: 0.2356 - val_accuracy: 0.9792\n",
      "Epoch 24/100\n",
      "1875/1875 [==============================] - 6s 3ms/step - loss: 0.0084 - accuracy: 0.9976 - val_loss: 0.2579 - val_accuracy: 0.9780\n",
      "Epoch 25/100\n",
      "1875/1875 [==============================] - 6s 3ms/step - loss: 0.0076 - accuracy: 0.9979 - val_loss: 0.2391 - val_accuracy: 0.9802\n",
      "Epoch 26/100\n",
      "1875/1875 [==============================] - 7s 4ms/step - loss: 0.0080 - accuracy: 0.9978 - val_loss: 0.2315 - val_accuracy: 0.9789\n",
      "Epoch 27/100\n",
      "1875/1875 [==============================] - 7s 4ms/step - loss: 0.0085 - accuracy: 0.9977 - val_loss: 0.2362 - val_accuracy: 0.9797\n",
      "Epoch 28/100\n",
      "1875/1875 [==============================] - 7s 4ms/step - loss: 0.0086 - accuracy: 0.9977 - val_loss: 0.2313 - val_accuracy: 0.9794\n",
      "Epoch 29/100\n",
      "1875/1875 [==============================] - 6s 3ms/step - loss: 0.0076 - accuracy: 0.9976 - val_loss: 0.2453 - val_accuracy: 0.9795\n",
      "Epoch 30/100\n",
      "1875/1875 [==============================] - 7s 4ms/step - loss: 0.0072 - accuracy: 0.9980 - val_loss: 0.2357 - val_accuracy: 0.9790\n",
      "Epoch 31/100\n",
      "1875/1875 [==============================] - 7s 4ms/step - loss: 0.0080 - accuracy: 0.9977 - val_loss: 0.2423 - val_accuracy: 0.9799\n",
      "Epoch 32/100\n",
      "1875/1875 [==============================] - 7s 4ms/step - loss: 0.0079 - accuracy: 0.9977 - val_loss: 0.2563 - val_accuracy: 0.9796\n",
      "Epoch 33/100\n",
      "1875/1875 [==============================] - 6s 3ms/step - loss: 0.0093 - accuracy: 0.9974 - val_loss: 0.2281 - val_accuracy: 0.9811\n",
      "Epoch 34/100\n",
      "1875/1875 [==============================] - 6s 3ms/step - loss: 0.0083 - accuracy: 0.9979 - val_loss: 0.2504 - val_accuracy: 0.9808\n",
      "Epoch 35/100\n",
      "1875/1875 [==============================] - 6s 3ms/step - loss: 0.0078 - accuracy: 0.9980 - val_loss: 0.2507 - val_accuracy: 0.9800\n",
      "Epoch 36/100\n",
      "1875/1875 [==============================] - 7s 3ms/step - loss: 0.0084 - accuracy: 0.9981 - val_loss: 0.2240 - val_accuracy: 0.9821\n",
      "Epoch 37/100\n",
      "1875/1875 [==============================] - 6s 3ms/step - loss: 0.0100 - accuracy: 0.9972 - val_loss: 0.2509 - val_accuracy: 0.9801\n",
      "Epoch 38/100\n",
      "1875/1875 [==============================] - 6s 3ms/step - loss: 0.0101 - accuracy: 0.9973 - val_loss: 0.2398 - val_accuracy: 0.9800\n",
      "Epoch 39/100\n",
      "1875/1875 [==============================] - 7s 4ms/step - loss: 0.0086 - accuracy: 0.9974 - val_loss: 0.2459 - val_accuracy: 0.9792\n",
      "Epoch 40/100\n",
      "1875/1875 [==============================] - 7s 3ms/step - loss: 0.0082 - accuracy: 0.9978 - val_loss: 0.2477 - val_accuracy: 0.9812\n",
      "Epoch 41/100\n",
      "1875/1875 [==============================] - 6s 3ms/step - loss: 0.0085 - accuracy: 0.9976 - val_loss: 0.2455 - val_accuracy: 0.9795\n",
      "Epoch 42/100\n",
      "1875/1875 [==============================] - 6s 3ms/step - loss: 0.0086 - accuracy: 0.9977 - val_loss: 0.2470 - val_accuracy: 0.9797\n",
      "Epoch 43/100\n",
      "1875/1875 [==============================] - 7s 3ms/step - loss: 0.0071 - accuracy: 0.9981 - val_loss: 0.2470 - val_accuracy: 0.9803\n",
      "Epoch 44/100\n",
      "1875/1875 [==============================] - 6s 3ms/step - loss: 0.0086 - accuracy: 0.9978 - val_loss: 0.2658 - val_accuracy: 0.9795\n",
      "Epoch 45/100\n",
      "1875/1875 [==============================] - 7s 3ms/step - loss: 0.0088 - accuracy: 0.9977 - val_loss: 0.2688 - val_accuracy: 0.9783\n",
      "Epoch 46/100\n",
      "1875/1875 [==============================] - 7s 4ms/step - loss: 0.0069 - accuracy: 0.9979 - val_loss: 0.2591 - val_accuracy: 0.9779\n",
      "Epoch 47/100\n",
      "1875/1875 [==============================] - 6s 3ms/step - loss: 0.0086 - accuracy: 0.9977 - val_loss: 0.2450 - val_accuracy: 0.9793\n",
      "Epoch 48/100\n",
      "1875/1875 [==============================] - 6s 3ms/step - loss: 0.0086 - accuracy: 0.9978 - val_loss: 0.2648 - val_accuracy: 0.9792\n",
      "Epoch 49/100\n",
      "1875/1875 [==============================] - 6s 3ms/step - loss: 0.0087 - accuracy: 0.9976 - val_loss: 0.2620 - val_accuracy: 0.9809\n",
      "Epoch 50/100\n",
      "1875/1875 [==============================] - 6s 3ms/step - loss: 0.0075 - accuracy: 0.9977 - val_loss: 0.2312 - val_accuracy: 0.9816\n",
      "Epoch 51/100\n",
      "1875/1875 [==============================] - 6s 3ms/step - loss: 0.0072 - accuracy: 0.9979 - val_loss: 0.2544 - val_accuracy: 0.9809\n",
      "Epoch 52/100\n",
      "1875/1875 [==============================] - 6s 3ms/step - loss: 0.0076 - accuracy: 0.9977 - val_loss: 0.2375 - val_accuracy: 0.9807\n",
      "Epoch 53/100\n",
      "1875/1875 [==============================] - 6s 3ms/step - loss: 0.0074 - accuracy: 0.9980 - val_loss: 0.2439 - val_accuracy: 0.9810\n",
      "Epoch 54/100\n",
      "1875/1875 [==============================] - 6s 3ms/step - loss: 0.0087 - accuracy: 0.9978 - val_loss: 0.2790 - val_accuracy: 0.9786\n",
      "Epoch 55/100\n",
      "1875/1875 [==============================] - 6s 3ms/step - loss: 0.0088 - accuracy: 0.9978 - val_loss: 0.2495 - val_accuracy: 0.9801\n",
      "Epoch 56/100\n",
      "1875/1875 [==============================] - 6s 3ms/step - loss: 0.0071 - accuracy: 0.9981 - val_loss: 0.2501 - val_accuracy: 0.9801\n",
      "Epoch 57/100\n",
      "1875/1875 [==============================] - 6s 3ms/step - loss: 0.0092 - accuracy: 0.9979 - val_loss: 0.2704 - val_accuracy: 0.9798\n",
      "Epoch 58/100\n",
      "1875/1875 [==============================] - 6s 3ms/step - loss: 0.0081 - accuracy: 0.9980 - val_loss: 0.2731 - val_accuracy: 0.9805\n",
      "Epoch 59/100\n",
      "1875/1875 [==============================] - 6s 3ms/step - loss: 0.0069 - accuracy: 0.9979 - val_loss: 0.2823 - val_accuracy: 0.9794\n",
      "Epoch 60/100\n",
      "1875/1875 [==============================] - 6s 3ms/step - loss: 0.0080 - accuracy: 0.9978 - val_loss: 0.2519 - val_accuracy: 0.9794\n",
      "Epoch 61/100\n",
      "1875/1875 [==============================] - 6s 3ms/step - loss: 0.0077 - accuracy: 0.9979 - val_loss: 0.2724 - val_accuracy: 0.9799\n",
      "Epoch 62/100\n",
      "1875/1875 [==============================] - 6s 3ms/step - loss: 0.0071 - accuracy: 0.9981 - val_loss: 0.2676 - val_accuracy: 0.9806\n",
      "Epoch 63/100\n",
      "1875/1875 [==============================] - 6s 3ms/step - loss: 0.0086 - accuracy: 0.9976 - val_loss: 0.2570 - val_accuracy: 0.9789\n",
      "Epoch 64/100\n",
      "1875/1875 [==============================] - 6s 3ms/step - loss: 0.0102 - accuracy: 0.9976 - val_loss: 0.2455 - val_accuracy: 0.9808\n",
      "Epoch 65/100\n",
      "1875/1875 [==============================] - 6s 3ms/step - loss: 0.0082 - accuracy: 0.9978 - val_loss: 0.2627 - val_accuracy: 0.9797\n",
      "Epoch 66/100\n",
      "1875/1875 [==============================] - 6s 3ms/step - loss: 0.0081 - accuracy: 0.9979 - val_loss: 0.2521 - val_accuracy: 0.9804\n",
      "Epoch 67/100\n",
      "1875/1875 [==============================] - 6s 3ms/step - loss: 0.0075 - accuracy: 0.9980 - val_loss: 0.2510 - val_accuracy: 0.9793\n",
      "Epoch 68/100\n",
      "1875/1875 [==============================] - 7s 3ms/step - loss: 0.0091 - accuracy: 0.9977 - val_loss: 0.2606 - val_accuracy: 0.9802\n",
      "Epoch 69/100\n",
      "1875/1875 [==============================] - 6s 3ms/step - loss: 0.0082 - accuracy: 0.9978 - val_loss: 0.2566 - val_accuracy: 0.9798\n",
      "Epoch 70/100\n",
      "1875/1875 [==============================] - 6s 3ms/step - loss: 0.0082 - accuracy: 0.9977 - val_loss: 0.2805 - val_accuracy: 0.9782\n",
      "Epoch 71/100\n",
      "1875/1875 [==============================] - 6s 3ms/step - loss: 0.0087 - accuracy: 0.9977 - val_loss: 0.2500 - val_accuracy: 0.9804\n",
      "Epoch 72/100\n",
      "1875/1875 [==============================] - 7s 4ms/step - loss: 0.0080 - accuracy: 0.9981 - val_loss: 0.2468 - val_accuracy: 0.9809\n",
      "Epoch 73/100\n",
      "1875/1875 [==============================] - 7s 4ms/step - loss: 0.0076 - accuracy: 0.9979 - val_loss: 0.2466 - val_accuracy: 0.9817\n",
      "Epoch 74/100\n",
      "1875/1875 [==============================] - 7s 3ms/step - loss: 0.0105 - accuracy: 0.9978 - val_loss: 0.2688 - val_accuracy: 0.9797\n",
      "Epoch 75/100\n",
      "1875/1875 [==============================] - 6s 3ms/step - loss: 0.0071 - accuracy: 0.9979 - val_loss: 0.2653 - val_accuracy: 0.9805\n",
      "Epoch 76/100\n",
      "1875/1875 [==============================] - 7s 3ms/step - loss: 0.0066 - accuracy: 0.9981 - val_loss: 0.2556 - val_accuracy: 0.9799\n",
      "Epoch 77/100\n",
      "1875/1875 [==============================] - 6s 3ms/step - loss: 0.0082 - accuracy: 0.9980 - val_loss: 0.2552 - val_accuracy: 0.9804\n",
      "Epoch 78/100\n",
      "1875/1875 [==============================] - 7s 4ms/step - loss: 0.0066 - accuracy: 0.9981 - val_loss: 0.2517 - val_accuracy: 0.9790\n",
      "Epoch 79/100\n",
      "1875/1875 [==============================] - 6s 3ms/step - loss: 0.0086 - accuracy: 0.9978 - val_loss: 0.2606 - val_accuracy: 0.9798\n",
      "Epoch 80/100\n",
      "1875/1875 [==============================] - 7s 4ms/step - loss: 0.0055 - accuracy: 0.9986 - val_loss: 0.2736 - val_accuracy: 0.9785\n",
      "Epoch 81/100\n",
      "1875/1875 [==============================] - 7s 4ms/step - loss: 0.0078 - accuracy: 0.9978 - val_loss: 0.2490 - val_accuracy: 0.9810\n",
      "Epoch 82/100\n",
      "1875/1875 [==============================] - 6s 3ms/step - loss: 0.0070 - accuracy: 0.9980 - val_loss: 0.2695 - val_accuracy: 0.9781\n",
      "Epoch 83/100\n",
      "1875/1875 [==============================] - 6s 3ms/step - loss: 0.0074 - accuracy: 0.9979 - val_loss: 0.2749 - val_accuracy: 0.9799\n",
      "Epoch 84/100\n",
      "1875/1875 [==============================] - 7s 4ms/step - loss: 0.0071 - accuracy: 0.9980 - val_loss: 0.2792 - val_accuracy: 0.9801\n",
      "Epoch 85/100\n",
      "1875/1875 [==============================] - 7s 4ms/step - loss: 0.0077 - accuracy: 0.9979 - val_loss: 0.2715 - val_accuracy: 0.9804\n",
      "Epoch 86/100\n",
      "1875/1875 [==============================] - 6s 3ms/step - loss: 0.0094 - accuracy: 0.9978 - val_loss: 0.2753 - val_accuracy: 0.9795\n",
      "Epoch 87/100\n",
      "1875/1875 [==============================] - 6s 3ms/step - loss: 0.0067 - accuracy: 0.9983 - val_loss: 0.2645 - val_accuracy: 0.9802\n",
      "Epoch 88/100\n",
      "1875/1875 [==============================] - 6s 3ms/step - loss: 0.0078 - accuracy: 0.9980 - val_loss: 0.2597 - val_accuracy: 0.9787\n",
      "Epoch 89/100\n",
      "1875/1875 [==============================] - 7s 4ms/step - loss: 0.0072 - accuracy: 0.9983 - val_loss: 0.2640 - val_accuracy: 0.9793\n",
      "Epoch 90/100\n",
      "1875/1875 [==============================] - 6s 3ms/step - loss: 0.0091 - accuracy: 0.9976 - val_loss: 0.2637 - val_accuracy: 0.9804\n",
      "Epoch 91/100\n",
      "1875/1875 [==============================] - 6s 3ms/step - loss: 0.0082 - accuracy: 0.9979 - val_loss: 0.2564 - val_accuracy: 0.9801\n",
      "Epoch 92/100\n",
      "1875/1875 [==============================] - 7s 3ms/step - loss: 0.0079 - accuracy: 0.9979 - val_loss: 0.2539 - val_accuracy: 0.9798\n",
      "Epoch 93/100\n",
      "1875/1875 [==============================] - 7s 4ms/step - loss: 0.0076 - accuracy: 0.9978 - val_loss: 0.2806 - val_accuracy: 0.9787\n",
      "Epoch 94/100\n",
      "1875/1875 [==============================] - 7s 3ms/step - loss: 0.0091 - accuracy: 0.9978 - val_loss: 0.2785 - val_accuracy: 0.9793\n",
      "Epoch 95/100\n",
      "1875/1875 [==============================] - 6s 3ms/step - loss: 0.0075 - accuracy: 0.9980 - val_loss: 0.2782 - val_accuracy: 0.9793\n",
      "Epoch 96/100\n",
      "1875/1875 [==============================] - 6s 3ms/step - loss: 0.0091 - accuracy: 0.9977 - val_loss: 0.2745 - val_accuracy: 0.9805\n",
      "Epoch 97/100\n",
      "1875/1875 [==============================] - 7s 4ms/step - loss: 0.0085 - accuracy: 0.9980 - val_loss: 0.2708 - val_accuracy: 0.9797\n",
      "Epoch 98/100\n",
      "1875/1875 [==============================] - 7s 4ms/step - loss: 0.0060 - accuracy: 0.9982 - val_loss: 0.2759 - val_accuracy: 0.9801\n",
      "Epoch 99/100\n",
      "1875/1875 [==============================] - 6s 3ms/step - loss: 0.0098 - accuracy: 0.9975 - val_loss: 0.2716 - val_accuracy: 0.9795\n",
      "Epoch 100/100\n",
      "1875/1875 [==============================] - 7s 3ms/step - loss: 0.0076 - accuracy: 0.9982 - val_loss: 0.2841 - val_accuracy: 0.9798\n",
      "Epoch 1/200\n",
      "1875/1875 [==============================] - 6s 3ms/step - loss: 0.0093 - accuracy: 0.9979 - val_loss: 0.2841 - val_accuracy: 0.9798\n",
      "Epoch 2/200\n",
      "1875/1875 [==============================] - 7s 4ms/step - loss: 0.0077 - accuracy: 0.9979 - val_loss: 0.2586 - val_accuracy: 0.9808\n",
      "Epoch 3/200\n",
      "1875/1875 [==============================] - 6s 3ms/step - loss: 0.0071 - accuracy: 0.9980 - val_loss: 0.2762 - val_accuracy: 0.9798\n",
      "Epoch 4/200\n",
      "1875/1875 [==============================] - 6s 3ms/step - loss: 0.0082 - accuracy: 0.9976 - val_loss: 0.2718 - val_accuracy: 0.9801\n",
      "Epoch 5/200\n",
      "1875/1875 [==============================] - 6s 3ms/step - loss: 0.0063 - accuracy: 0.9983 - val_loss: 0.2686 - val_accuracy: 0.9808\n",
      "Epoch 6/200\n",
      "1875/1875 [==============================] - 6s 3ms/step - loss: 0.0065 - accuracy: 0.9981 - val_loss: 0.2805 - val_accuracy: 0.9798\n",
      "Epoch 7/200\n",
      "1875/1875 [==============================] - 7s 4ms/step - loss: 0.0079 - accuracy: 0.9981 - val_loss: 0.2863 - val_accuracy: 0.9790\n",
      "Epoch 8/200\n",
      "1875/1875 [==============================] - 7s 3ms/step - loss: 0.0074 - accuracy: 0.9981 - val_loss: 0.2825 - val_accuracy: 0.9806\n",
      "Epoch 9/200\n",
      "1875/1875 [==============================] - 7s 4ms/step - loss: 0.0073 - accuracy: 0.9979 - val_loss: 0.2750 - val_accuracy: 0.9799\n",
      "Epoch 10/200\n",
      "1875/1875 [==============================] - 7s 4ms/step - loss: 0.0083 - accuracy: 0.9978 - val_loss: 0.2719 - val_accuracy: 0.9787\n",
      "Epoch 11/200\n",
      "1875/1875 [==============================] - 6s 3ms/step - loss: 0.0055 - accuracy: 0.9985 - val_loss: 0.2959 - val_accuracy: 0.9788\n",
      "Epoch 12/200\n",
      "1875/1875 [==============================] - 6s 3ms/step - loss: 0.0082 - accuracy: 0.9977 - val_loss: 0.2820 - val_accuracy: 0.9798\n",
      "Epoch 13/200\n",
      "1875/1875 [==============================] - 7s 4ms/step - loss: 0.0083 - accuracy: 0.9980 - val_loss: 0.2876 - val_accuracy: 0.9795\n",
      "Epoch 14/200\n",
      "1875/1875 [==============================] - 7s 4ms/step - loss: 0.0068 - accuracy: 0.9980 - val_loss: 0.2906 - val_accuracy: 0.9797\n",
      "Epoch 15/200\n",
      "1875/1875 [==============================] - 7s 4ms/step - loss: 0.0102 - accuracy: 0.9976 - val_loss: 0.2751 - val_accuracy: 0.9794\n",
      "Epoch 16/200\n",
      "1875/1875 [==============================] - 7s 4ms/step - loss: 0.0089 - accuracy: 0.9977 - val_loss: 0.2852 - val_accuracy: 0.9788\n",
      "Epoch 17/200\n",
      "1875/1875 [==============================] - 7s 4ms/step - loss: 0.0086 - accuracy: 0.9978 - val_loss: 0.2786 - val_accuracy: 0.9806\n",
      "Epoch 18/200\n",
      "1875/1875 [==============================] - 6s 3ms/step - loss: 0.0086 - accuracy: 0.9977 - val_loss: 0.2893 - val_accuracy: 0.9799\n",
      "Epoch 19/200\n",
      "1875/1875 [==============================] - 7s 4ms/step - loss: 0.0088 - accuracy: 0.9979 - val_loss: 0.2784 - val_accuracy: 0.9804\n",
      "Epoch 20/200\n",
      "1875/1875 [==============================] - 7s 4ms/step - loss: 0.0067 - accuracy: 0.9982 - val_loss: 0.2969 - val_accuracy: 0.9800\n",
      "Epoch 21/200\n",
      "1875/1875 [==============================] - 7s 4ms/step - loss: 0.0084 - accuracy: 0.9978 - val_loss: 0.2883 - val_accuracy: 0.9780\n",
      "Epoch 22/200\n",
      "1875/1875 [==============================] - 6s 3ms/step - loss: 0.0059 - accuracy: 0.9982 - val_loss: 0.2825 - val_accuracy: 0.9806\n",
      "Epoch 23/200\n",
      "1875/1875 [==============================] - 7s 4ms/step - loss: 0.0067 - accuracy: 0.9982 - val_loss: 0.2964 - val_accuracy: 0.9781\n",
      "Epoch 24/200\n",
      "1875/1875 [==============================] - 7s 4ms/step - loss: 0.0085 - accuracy: 0.9979 - val_loss: 0.2830 - val_accuracy: 0.9785\n",
      "Epoch 25/200\n",
      "1875/1875 [==============================] - 7s 4ms/step - loss: 0.0064 - accuracy: 0.9982 - val_loss: 0.2817 - val_accuracy: 0.9801\n",
      "Epoch 26/200\n",
      "1875/1875 [==============================] - 7s 4ms/step - loss: 0.0073 - accuracy: 0.9979 - val_loss: 0.2776 - val_accuracy: 0.9800\n",
      "Epoch 27/200\n",
      "1875/1875 [==============================] - 7s 4ms/step - loss: 0.0084 - accuracy: 0.9977 - val_loss: 0.2795 - val_accuracy: 0.9800\n",
      "Epoch 28/200\n",
      "1875/1875 [==============================] - 7s 4ms/step - loss: 0.0078 - accuracy: 0.9980 - val_loss: 0.2946 - val_accuracy: 0.9795\n",
      "Epoch 29/200\n",
      "1875/1875 [==============================] - 7s 4ms/step - loss: 0.0075 - accuracy: 0.9978 - val_loss: 0.3023 - val_accuracy: 0.9784\n",
      "Epoch 30/200\n",
      "1875/1875 [==============================] - 7s 4ms/step - loss: 0.0056 - accuracy: 0.9984 - val_loss: 0.2890 - val_accuracy: 0.9791\n",
      "Epoch 31/200\n",
      "1875/1875 [==============================] - 7s 4ms/step - loss: 0.0077 - accuracy: 0.9981 - val_loss: 0.2821 - val_accuracy: 0.9803\n",
      "Epoch 32/200\n",
      "1875/1875 [==============================] - 7s 4ms/step - loss: 0.0091 - accuracy: 0.9978 - val_loss: 0.2842 - val_accuracy: 0.9806\n",
      "Epoch 33/200\n",
      "1875/1875 [==============================] - 6s 3ms/step - loss: 0.0068 - accuracy: 0.9981 - val_loss: 0.2722 - val_accuracy: 0.9806\n",
      "Epoch 34/200\n",
      "1875/1875 [==============================] - 7s 4ms/step - loss: 0.0098 - accuracy: 0.9976 - val_loss: 0.2895 - val_accuracy: 0.9793\n",
      "Epoch 35/200\n",
      "1875/1875 [==============================] - 7s 4ms/step - loss: 0.0101 - accuracy: 0.9976 - val_loss: 0.2961 - val_accuracy: 0.9806\n",
      "Epoch 36/200\n",
      "1875/1875 [==============================] - 7s 4ms/step - loss: 0.0071 - accuracy: 0.9981 - val_loss: 0.2926 - val_accuracy: 0.9811\n",
      "Epoch 37/200\n",
      "1875/1875 [==============================] - 6s 3ms/step - loss: 0.0057 - accuracy: 0.9984 - val_loss: 0.2800 - val_accuracy: 0.9799\n",
      "Epoch 38/200\n",
      "1875/1875 [==============================] - 7s 4ms/step - loss: 0.0074 - accuracy: 0.9981 - val_loss: 0.2791 - val_accuracy: 0.9784\n",
      "Epoch 39/200\n",
      "1875/1875 [==============================] - 7s 4ms/step - loss: 0.0079 - accuracy: 0.9980 - val_loss: 0.3024 - val_accuracy: 0.9783\n",
      "Epoch 40/200\n",
      "1875/1875 [==============================] - 7s 4ms/step - loss: 0.0070 - accuracy: 0.9980 - val_loss: 0.3059 - val_accuracy: 0.9785\n",
      "Epoch 41/200\n",
      "1875/1875 [==============================] - 7s 4ms/step - loss: 0.0080 - accuracy: 0.9980 - val_loss: 0.2941 - val_accuracy: 0.9793\n",
      "Epoch 42/200\n",
      "1875/1875 [==============================] - 7s 4ms/step - loss: 0.0079 - accuracy: 0.9981 - val_loss: 0.2927 - val_accuracy: 0.9801\n",
      "Epoch 43/200\n",
      "1875/1875 [==============================] - 7s 4ms/step - loss: 0.0081 - accuracy: 0.9979 - val_loss: 0.2785 - val_accuracy: 0.9792\n",
      "Epoch 44/200\n",
      "1875/1875 [==============================] - 6s 3ms/step - loss: 0.0061 - accuracy: 0.9980 - val_loss: 0.3113 - val_accuracy: 0.9777\n",
      "Epoch 45/200\n",
      "1875/1875 [==============================] - 7s 4ms/step - loss: 0.0071 - accuracy: 0.9981 - val_loss: 0.3068 - val_accuracy: 0.9791\n",
      "Epoch 46/200\n",
      "1875/1875 [==============================] - 7s 4ms/step - loss: 0.0076 - accuracy: 0.9980 - val_loss: 0.2924 - val_accuracy: 0.9804\n",
      "Epoch 47/200\n",
      "1875/1875 [==============================] - 7s 4ms/step - loss: 0.0075 - accuracy: 0.9981 - val_loss: 0.3002 - val_accuracy: 0.9794\n",
      "Epoch 48/200\n",
      "1875/1875 [==============================] - 7s 4ms/step - loss: 0.0073 - accuracy: 0.9981 - val_loss: 0.3317 - val_accuracy: 0.9793\n",
      "Epoch 49/200\n",
      "1875/1875 [==============================] - 7s 4ms/step - loss: 0.0081 - accuracy: 0.9979 - val_loss: 0.3074 - val_accuracy: 0.9797\n",
      "Epoch 50/200\n",
      "1875/1875 [==============================] - 7s 4ms/step - loss: 0.0074 - accuracy: 0.9978 - val_loss: 0.3182 - val_accuracy: 0.9795\n",
      "Epoch 51/200\n",
      "1875/1875 [==============================] - 7s 4ms/step - loss: 0.0063 - accuracy: 0.9982 - val_loss: 0.3227 - val_accuracy: 0.9782\n",
      "Epoch 52/200\n",
      "1875/1875 [==============================] - 7s 4ms/step - loss: 0.0063 - accuracy: 0.9983 - val_loss: 0.2904 - val_accuracy: 0.9777\n",
      "Epoch 53/200\n",
      "1875/1875 [==============================] - 7s 4ms/step - loss: 0.0093 - accuracy: 0.9979 - val_loss: 0.3066 - val_accuracy: 0.9781\n",
      "Epoch 54/200\n",
      "1875/1875 [==============================] - 6s 3ms/step - loss: 0.0077 - accuracy: 0.9979 - val_loss: 0.3045 - val_accuracy: 0.9795\n",
      "Epoch 55/200\n",
      "1875/1875 [==============================] - 7s 4ms/step - loss: 0.0098 - accuracy: 0.9977 - val_loss: 0.2860 - val_accuracy: 0.9793\n",
      "Epoch 56/200\n",
      "1875/1875 [==============================] - 7s 3ms/step - loss: 0.0077 - accuracy: 0.9981 - val_loss: 0.3182 - val_accuracy: 0.9796\n",
      "Epoch 57/200\n",
      "1875/1875 [==============================] - 6s 3ms/step - loss: 0.0069 - accuracy: 0.9983 - val_loss: 0.3152 - val_accuracy: 0.9785\n",
      "Epoch 58/200\n",
      "1875/1875 [==============================] - 7s 4ms/step - loss: 0.0083 - accuracy: 0.9981 - val_loss: 0.3028 - val_accuracy: 0.9794\n",
      "Epoch 59/200\n",
      "1875/1875 [==============================] - 7s 4ms/step - loss: 0.0061 - accuracy: 0.9982 - val_loss: 0.3062 - val_accuracy: 0.9795\n",
      "Epoch 60/200\n",
      "1875/1875 [==============================] - 7s 4ms/step - loss: 0.0086 - accuracy: 0.9980 - val_loss: 0.3125 - val_accuracy: 0.9783\n",
      "Epoch 61/200\n",
      "1875/1875 [==============================] - 7s 4ms/step - loss: 0.0073 - accuracy: 0.9980 - val_loss: 0.2891 - val_accuracy: 0.9801\n",
      "Epoch 62/200\n",
      "1875/1875 [==============================] - 6s 3ms/step - loss: 0.0081 - accuracy: 0.9978 - val_loss: 0.3038 - val_accuracy: 0.9797\n",
      "Epoch 63/200\n",
      "1875/1875 [==============================] - 6s 3ms/step - loss: 0.0070 - accuracy: 0.9985 - val_loss: 0.2948 - val_accuracy: 0.9784\n",
      "Epoch 64/200\n",
      "1875/1875 [==============================] - 7s 4ms/step - loss: 0.0069 - accuracy: 0.9982 - val_loss: 0.3144 - val_accuracy: 0.9792\n",
      "Epoch 65/200\n",
      "1875/1875 [==============================] - 7s 4ms/step - loss: 0.0059 - accuracy: 0.9982 - val_loss: 0.3005 - val_accuracy: 0.9800\n",
      "Epoch 66/200\n",
      "1875/1875 [==============================] - 7s 3ms/step - loss: 0.0084 - accuracy: 0.9980 - val_loss: 0.3105 - val_accuracy: 0.9795\n",
      "Epoch 67/200\n",
      "1875/1875 [==============================] - 7s 4ms/step - loss: 0.0067 - accuracy: 0.9983 - val_loss: 0.2765 - val_accuracy: 0.9806\n",
      "Epoch 68/200\n",
      "1875/1875 [==============================] - 7s 4ms/step - loss: 0.0063 - accuracy: 0.9983 - val_loss: 0.3208 - val_accuracy: 0.9780\n",
      "Epoch 69/200\n",
      "1875/1875 [==============================] - 7s 4ms/step - loss: 0.0060 - accuracy: 0.9985 - val_loss: 0.3136 - val_accuracy: 0.9796\n",
      "Epoch 70/200\n",
      "1875/1875 [==============================] - 6s 3ms/step - loss: 0.0075 - accuracy: 0.9983 - val_loss: 0.3018 - val_accuracy: 0.9793\n",
      "Epoch 71/200\n",
      "1875/1875 [==============================] - 7s 4ms/step - loss: 0.0054 - accuracy: 0.9984 - val_loss: 0.3224 - val_accuracy: 0.9788\n",
      "Epoch 72/200\n",
      "1875/1875 [==============================] - 7s 4ms/step - loss: 0.0067 - accuracy: 0.9983 - val_loss: 0.3026 - val_accuracy: 0.9794\n",
      "Epoch 73/200\n",
      "1875/1875 [==============================] - 7s 4ms/step - loss: 0.0063 - accuracy: 0.9983 - val_loss: 0.2972 - val_accuracy: 0.9790\n",
      "Epoch 74/200\n",
      "1875/1875 [==============================] - 7s 4ms/step - loss: 0.0081 - accuracy: 0.9979 - val_loss: 0.2932 - val_accuracy: 0.9792\n",
      "Epoch 75/200\n",
      "1875/1875 [==============================] - 7s 4ms/step - loss: 0.0079 - accuracy: 0.9981 - val_loss: 0.3037 - val_accuracy: 0.9791\n",
      "Epoch 76/200\n",
      "1875/1875 [==============================] - 7s 4ms/step - loss: 0.0070 - accuracy: 0.9981 - val_loss: 0.3305 - val_accuracy: 0.9782\n",
      "Epoch 77/200\n",
      "1875/1875 [==============================] - 7s 4ms/step - loss: 0.0062 - accuracy: 0.9984 - val_loss: 0.3008 - val_accuracy: 0.9801\n",
      "Epoch 78/200\n",
      "1875/1875 [==============================] - 7s 4ms/step - loss: 0.0084 - accuracy: 0.9978 - val_loss: 0.3179 - val_accuracy: 0.9776\n",
      "Epoch 79/200\n",
      "1875/1875 [==============================] - 6s 3ms/step - loss: 0.0067 - accuracy: 0.9981 - val_loss: 0.2705 - val_accuracy: 0.9810\n",
      "Epoch 80/200\n",
      "1875/1875 [==============================] - 6s 3ms/step - loss: 0.0086 - accuracy: 0.9979 - val_loss: 0.3148 - val_accuracy: 0.9778\n",
      "Epoch 81/200\n",
      "1875/1875 [==============================] - 7s 4ms/step - loss: 0.0059 - accuracy: 0.9984 - val_loss: 0.3118 - val_accuracy: 0.9792\n",
      "Epoch 82/200\n",
      "1875/1875 [==============================] - 7s 4ms/step - loss: 0.0061 - accuracy: 0.9985 - val_loss: 0.2834 - val_accuracy: 0.9796\n",
      "Epoch 83/200\n",
      "1875/1875 [==============================] - 7s 4ms/step - loss: 0.0101 - accuracy: 0.9977 - val_loss: 0.3143 - val_accuracy: 0.9796\n",
      "Epoch 84/200\n",
      "1875/1875 [==============================] - 7s 4ms/step - loss: 0.0074 - accuracy: 0.9980 - val_loss: 0.3107 - val_accuracy: 0.9801\n",
      "Epoch 85/200\n",
      "1875/1875 [==============================] - 7s 4ms/step - loss: 0.0071 - accuracy: 0.9982 - val_loss: 0.3064 - val_accuracy: 0.9798\n",
      "Epoch 86/200\n",
      "1875/1875 [==============================] - 7s 4ms/step - loss: 0.0090 - accuracy: 0.9983 - val_loss: 0.3049 - val_accuracy: 0.9803\n",
      "Epoch 87/200\n",
      "1875/1875 [==============================] - 7s 4ms/step - loss: 0.0073 - accuracy: 0.9984 - val_loss: 0.2904 - val_accuracy: 0.9792\n",
      "Epoch 88/200\n",
      "1875/1875 [==============================] - 7s 4ms/step - loss: 0.0062 - accuracy: 0.9984 - val_loss: 0.3179 - val_accuracy: 0.9792\n",
      "Epoch 89/200\n",
      "1875/1875 [==============================] - 6s 3ms/step - loss: 0.0068 - accuracy: 0.9982 - val_loss: 0.3038 - val_accuracy: 0.9788\n",
      "Epoch 90/200\n",
      "1875/1875 [==============================] - 7s 4ms/step - loss: 0.0092 - accuracy: 0.9976 - val_loss: 0.2985 - val_accuracy: 0.9787\n",
      "Epoch 91/200\n",
      "1875/1875 [==============================] - 7s 4ms/step - loss: 0.0076 - accuracy: 0.9982 - val_loss: 0.3069 - val_accuracy: 0.9797\n",
      "Epoch 92/200\n",
      "1875/1875 [==============================] - 6s 3ms/step - loss: 0.0073 - accuracy: 0.9982 - val_loss: 0.2966 - val_accuracy: 0.9793\n",
      "Epoch 93/200\n",
      "1875/1875 [==============================] - 7s 4ms/step - loss: 0.0076 - accuracy: 0.9980 - val_loss: 0.2926 - val_accuracy: 0.9796\n",
      "Epoch 94/200\n",
      "1875/1875 [==============================] - 7s 4ms/step - loss: 0.0061 - accuracy: 0.9983 - val_loss: 0.3119 - val_accuracy: 0.9786\n",
      "Epoch 95/200\n",
      "1875/1875 [==============================] - 7s 4ms/step - loss: 0.0061 - accuracy: 0.9984 - val_loss: 0.3354 - val_accuracy: 0.9792\n",
      "Epoch 96/200\n",
      "1875/1875 [==============================] - 7s 3ms/step - loss: 0.0094 - accuracy: 0.9980 - val_loss: 0.3215 - val_accuracy: 0.9788\n",
      "Epoch 97/200\n",
      "1875/1875 [==============================] - 7s 4ms/step - loss: 0.0063 - accuracy: 0.9984 - val_loss: 0.3169 - val_accuracy: 0.9792\n",
      "Epoch 98/200\n",
      "1875/1875 [==============================] - 6s 3ms/step - loss: 0.0062 - accuracy: 0.9984 - val_loss: 0.3074 - val_accuracy: 0.9810\n",
      "Epoch 99/200\n",
      "1875/1875 [==============================] - 6s 3ms/step - loss: 0.0069 - accuracy: 0.9984 - val_loss: 0.3145 - val_accuracy: 0.9788\n",
      "Epoch 100/200\n",
      "1875/1875 [==============================] - 7s 4ms/step - loss: 0.0062 - accuracy: 0.9982 - val_loss: 0.3059 - val_accuracy: 0.9814\n",
      "Epoch 101/200\n",
      "1875/1875 [==============================] - 7s 4ms/step - loss: 0.0105 - accuracy: 0.9978 - val_loss: 0.3080 - val_accuracy: 0.9791\n",
      "Epoch 102/200\n",
      "1875/1875 [==============================] - 7s 4ms/step - loss: 0.0057 - accuracy: 0.9986 - val_loss: 0.2866 - val_accuracy: 0.9802\n",
      "Epoch 103/200\n",
      "1875/1875 [==============================] - 7s 4ms/step - loss: 0.0084 - accuracy: 0.9978 - val_loss: 0.3129 - val_accuracy: 0.9793\n",
      "Epoch 104/200\n",
      "1875/1875 [==============================] - 7s 4ms/step - loss: 0.0091 - accuracy: 0.9980 - val_loss: 0.2980 - val_accuracy: 0.9791\n",
      "Epoch 105/200\n",
      "1875/1875 [==============================] - 6s 3ms/step - loss: 0.0071 - accuracy: 0.9982 - val_loss: 0.2985 - val_accuracy: 0.9805\n",
      "Epoch 106/200\n",
      "1875/1875 [==============================] - 7s 4ms/step - loss: 0.0066 - accuracy: 0.9982 - val_loss: 0.3333 - val_accuracy: 0.9791\n",
      "Epoch 107/200\n",
      "1875/1875 [==============================] - 7s 4ms/step - loss: 0.0079 - accuracy: 0.9980 - val_loss: 0.3152 - val_accuracy: 0.9786\n",
      "Epoch 108/200\n",
      "1875/1875 [==============================] - 7s 4ms/step - loss: 0.0063 - accuracy: 0.9981 - val_loss: 0.3124 - val_accuracy: 0.9780\n",
      "Epoch 109/200\n",
      "1875/1875 [==============================] - 7s 4ms/step - loss: 0.0065 - accuracy: 0.9984 - val_loss: 0.3174 - val_accuracy: 0.9786\n",
      "Epoch 110/200\n",
      "1875/1875 [==============================] - 6s 3ms/step - loss: 0.0070 - accuracy: 0.9982 - val_loss: 0.3188 - val_accuracy: 0.9782\n",
      "Epoch 111/200\n",
      "1875/1875 [==============================] - 7s 3ms/step - loss: 0.0071 - accuracy: 0.9981 - val_loss: 0.3326 - val_accuracy: 0.9782\n",
      "Epoch 112/200\n",
      "1875/1875 [==============================] - 6s 3ms/step - loss: 0.0074 - accuracy: 0.9981 - val_loss: 0.3409 - val_accuracy: 0.9787\n",
      "Epoch 113/200\n",
      "1875/1875 [==============================] - 6s 3ms/step - loss: 0.0065 - accuracy: 0.9982 - val_loss: 0.3143 - val_accuracy: 0.9795\n",
      "Epoch 114/200\n",
      "1875/1875 [==============================] - 6s 3ms/step - loss: 0.0079 - accuracy: 0.9982 - val_loss: 0.3191 - val_accuracy: 0.9790\n",
      "Epoch 115/200\n",
      "1875/1875 [==============================] - 6s 3ms/step - loss: 0.0080 - accuracy: 0.9981 - val_loss: 0.3156 - val_accuracy: 0.9791\n",
      "Epoch 116/200\n",
      "1875/1875 [==============================] - 7s 4ms/step - loss: 0.0072 - accuracy: 0.9982 - val_loss: 0.3331 - val_accuracy: 0.9793\n",
      "Epoch 117/200\n",
      "1875/1875 [==============================] - 6s 3ms/step - loss: 0.0081 - accuracy: 0.9980 - val_loss: 0.3010 - val_accuracy: 0.9791\n",
      "Epoch 118/200\n",
      "1875/1875 [==============================] - 7s 4ms/step - loss: 0.0058 - accuracy: 0.9985 - val_loss: 0.3225 - val_accuracy: 0.9781\n",
      "Epoch 119/200\n",
      "1875/1875 [==============================] - 6s 3ms/step - loss: 0.0064 - accuracy: 0.9985 - val_loss: 0.2989 - val_accuracy: 0.9803\n",
      "Epoch 120/200\n",
      "1875/1875 [==============================] - 6s 3ms/step - loss: 0.0089 - accuracy: 0.9977 - val_loss: 0.3189 - val_accuracy: 0.9783\n",
      "Epoch 121/200\n",
      "1875/1875 [==============================] - 6s 3ms/step - loss: 0.0084 - accuracy: 0.9981 - val_loss: 0.3042 - val_accuracy: 0.9796\n",
      "Epoch 122/200\n",
      "1875/1875 [==============================] - 7s 4ms/step - loss: 0.0066 - accuracy: 0.9985 - val_loss: 0.3270 - val_accuracy: 0.9803\n",
      "Epoch 123/200\n",
      "1875/1875 [==============================] - 7s 4ms/step - loss: 0.0075 - accuracy: 0.9984 - val_loss: 0.3069 - val_accuracy: 0.9789\n",
      "Epoch 124/200\n",
      "1875/1875 [==============================] - 7s 4ms/step - loss: 0.0066 - accuracy: 0.9984 - val_loss: 0.3292 - val_accuracy: 0.9784\n",
      "Epoch 125/200\n",
      "1875/1875 [==============================] - 7s 4ms/step - loss: 0.0079 - accuracy: 0.9979 - val_loss: 0.3110 - val_accuracy: 0.9798\n",
      "Epoch 126/200\n",
      "1875/1875 [==============================] - 7s 3ms/step - loss: 0.0079 - accuracy: 0.9979 - val_loss: 0.3108 - val_accuracy: 0.9803\n",
      "Epoch 127/200\n",
      "1875/1875 [==============================] - 6s 3ms/step - loss: 0.0053 - accuracy: 0.9986 - val_loss: 0.3030 - val_accuracy: 0.9805\n",
      "Epoch 128/200\n",
      "1875/1875 [==============================] - 6s 3ms/step - loss: 0.0078 - accuracy: 0.9982 - val_loss: 0.3142 - val_accuracy: 0.9776\n",
      "Epoch 129/200\n",
      "1875/1875 [==============================] - 7s 4ms/step - loss: 0.0080 - accuracy: 0.9980 - val_loss: 0.3111 - val_accuracy: 0.9793\n",
      "Epoch 130/200\n",
      "1875/1875 [==============================] - 7s 4ms/step - loss: 0.0078 - accuracy: 0.9984 - val_loss: 0.3102 - val_accuracy: 0.9796\n",
      "Epoch 131/200\n",
      "1875/1875 [==============================] - 7s 4ms/step - loss: 0.0070 - accuracy: 0.9983 - val_loss: 0.3204 - val_accuracy: 0.9785\n",
      "Epoch 132/200\n",
      "1875/1875 [==============================] - 6s 3ms/step - loss: 0.0050 - accuracy: 0.9984 - val_loss: 0.3448 - val_accuracy: 0.9786\n",
      "Epoch 133/200\n",
      "1875/1875 [==============================] - 7s 4ms/step - loss: 0.0064 - accuracy: 0.9985 - val_loss: 0.3562 - val_accuracy: 0.9782\n",
      "Epoch 134/200\n",
      "1875/1875 [==============================] - 7s 4ms/step - loss: 0.0062 - accuracy: 0.9984 - val_loss: 0.3541 - val_accuracy: 0.9778\n",
      "Epoch 135/200\n",
      "1875/1875 [==============================] - 7s 4ms/step - loss: 0.0069 - accuracy: 0.9984 - val_loss: 0.3402 - val_accuracy: 0.9773\n",
      "Epoch 136/200\n",
      "1875/1875 [==============================] - 6s 3ms/step - loss: 0.0082 - accuracy: 0.9980 - val_loss: 0.3187 - val_accuracy: 0.9785\n",
      "Epoch 137/200\n",
      "1875/1875 [==============================] - 6s 3ms/step - loss: 0.0065 - accuracy: 0.9983 - val_loss: 0.3112 - val_accuracy: 0.9783\n",
      "Epoch 138/200\n",
      "1875/1875 [==============================] - 7s 4ms/step - loss: 0.0059 - accuracy: 0.9984 - val_loss: 0.3311 - val_accuracy: 0.9783\n",
      "Epoch 139/200\n",
      "1875/1875 [==============================] - 7s 4ms/step - loss: 0.0074 - accuracy: 0.9981 - val_loss: 0.3371 - val_accuracy: 0.9787\n",
      "Epoch 140/200\n",
      "1875/1875 [==============================] - 7s 4ms/step - loss: 0.0073 - accuracy: 0.9984 - val_loss: 0.3263 - val_accuracy: 0.9797\n",
      "Epoch 141/200\n",
      "1875/1875 [==============================] - 6s 3ms/step - loss: 0.0081 - accuracy: 0.9983 - val_loss: 0.3365 - val_accuracy: 0.9778\n",
      "Epoch 142/200\n",
      "1875/1875 [==============================] - 6s 3ms/step - loss: 0.0069 - accuracy: 0.9983 - val_loss: 0.3411 - val_accuracy: 0.9797\n",
      "Epoch 143/200\n",
      "1875/1875 [==============================] - 7s 4ms/step - loss: 0.0060 - accuracy: 0.9984 - val_loss: 0.3312 - val_accuracy: 0.9792\n",
      "Epoch 144/200\n",
      "1875/1875 [==============================] - 7s 4ms/step - loss: 0.0054 - accuracy: 0.9986 - val_loss: 0.3151 - val_accuracy: 0.9794\n",
      "Epoch 145/200\n",
      "1875/1875 [==============================] - 7s 4ms/step - loss: 0.0082 - accuracy: 0.9981 - val_loss: 0.3179 - val_accuracy: 0.9789\n",
      "Epoch 146/200\n",
      "1875/1875 [==============================] - 7s 4ms/step - loss: 0.0079 - accuracy: 0.9982 - val_loss: 0.3417 - val_accuracy: 0.9780\n",
      "Epoch 147/200\n",
      "1875/1875 [==============================] - 7s 4ms/step - loss: 0.0090 - accuracy: 0.9983 - val_loss: 0.3255 - val_accuracy: 0.9788\n",
      "Epoch 148/200\n",
      "1875/1875 [==============================] - 7s 4ms/step - loss: 0.0080 - accuracy: 0.9980 - val_loss: 0.3403 - val_accuracy: 0.9777\n",
      "Epoch 149/200\n",
      "1875/1875 [==============================] - 7s 4ms/step - loss: 0.0089 - accuracy: 0.9980 - val_loss: 0.3318 - val_accuracy: 0.9787\n",
      "Epoch 150/200\n",
      "1875/1875 [==============================] - 7s 4ms/step - loss: 0.0052 - accuracy: 0.9985 - val_loss: 0.3408 - val_accuracy: 0.9783\n",
      "Epoch 151/200\n",
      "1875/1875 [==============================] - 7s 4ms/step - loss: 0.0089 - accuracy: 0.9979 - val_loss: 0.3445 - val_accuracy: 0.9785\n",
      "Epoch 152/200\n",
      "1875/1875 [==============================] - 7s 4ms/step - loss: 0.0075 - accuracy: 0.9983 - val_loss: 0.3483 - val_accuracy: 0.9779\n",
      "Epoch 153/200\n",
      "1875/1875 [==============================] - 7s 4ms/step - loss: 0.0079 - accuracy: 0.9982 - val_loss: 0.3266 - val_accuracy: 0.9792\n",
      "Epoch 154/200\n",
      "1875/1875 [==============================] - 7s 3ms/step - loss: 0.0051 - accuracy: 0.9986 - val_loss: 0.3211 - val_accuracy: 0.9797\n",
      "Epoch 155/200\n",
      "1875/1875 [==============================] - 7s 4ms/step - loss: 0.0077 - accuracy: 0.9983 - val_loss: 0.3522 - val_accuracy: 0.9791\n",
      "Epoch 156/200\n",
      "1875/1875 [==============================] - 7s 4ms/step - loss: 0.0093 - accuracy: 0.9979 - val_loss: 0.3210 - val_accuracy: 0.9783\n",
      "Epoch 157/200\n",
      "1875/1875 [==============================] - 7s 4ms/step - loss: 0.0072 - accuracy: 0.9982 - val_loss: 0.3571 - val_accuracy: 0.9781\n",
      "Epoch 158/200\n",
      "1875/1875 [==============================] - 7s 4ms/step - loss: 0.0072 - accuracy: 0.9982 - val_loss: 0.3431 - val_accuracy: 0.9793\n",
      "Epoch 159/200\n",
      "1875/1875 [==============================] - 7s 4ms/step - loss: 0.0074 - accuracy: 0.9982 - val_loss: 0.3345 - val_accuracy: 0.9795\n",
      "Epoch 160/200\n",
      "1875/1875 [==============================] - 7s 4ms/step - loss: 0.0066 - accuracy: 0.9982 - val_loss: 0.3288 - val_accuracy: 0.9793\n",
      "Epoch 161/200\n",
      "1875/1875 [==============================] - 7s 4ms/step - loss: 0.0070 - accuracy: 0.9983 - val_loss: 0.3386 - val_accuracy: 0.9796\n",
      "Epoch 162/200\n",
      "1875/1875 [==============================] - 7s 4ms/step - loss: 0.0063 - accuracy: 0.9984 - val_loss: 0.3540 - val_accuracy: 0.9784\n",
      "Epoch 163/200\n",
      "1875/1875 [==============================] - 7s 4ms/step - loss: 0.0063 - accuracy: 0.9984 - val_loss: 0.3642 - val_accuracy: 0.9786\n",
      "Epoch 164/200\n",
      "1875/1875 [==============================] - 6s 3ms/step - loss: 0.0076 - accuracy: 0.9981 - val_loss: 0.3525 - val_accuracy: 0.9786\n",
      "Epoch 165/200\n",
      "1875/1875 [==============================] - 7s 4ms/step - loss: 0.0075 - accuracy: 0.9983 - val_loss: 0.3508 - val_accuracy: 0.9784\n",
      "Epoch 166/200\n",
      "1875/1875 [==============================] - 7s 4ms/step - loss: 0.0067 - accuracy: 0.9985 - val_loss: 0.3447 - val_accuracy: 0.9787\n",
      "Epoch 167/200\n",
      "1875/1875 [==============================] - 6s 3ms/step - loss: 0.0089 - accuracy: 0.9980 - val_loss: 0.3282 - val_accuracy: 0.9785\n",
      "Epoch 168/200\n",
      "1875/1875 [==============================] - 7s 4ms/step - loss: 0.0077 - accuracy: 0.9981 - val_loss: 0.3464 - val_accuracy: 0.9784\n",
      "Epoch 169/200\n",
      "1875/1875 [==============================] - 7s 4ms/step - loss: 0.0079 - accuracy: 0.9980 - val_loss: 0.3350 - val_accuracy: 0.9786\n",
      "Epoch 170/200\n",
      "1875/1875 [==============================] - 6s 3ms/step - loss: 0.0062 - accuracy: 0.9984 - val_loss: 0.3363 - val_accuracy: 0.9780\n",
      "Epoch 171/200\n",
      "1875/1875 [==============================] - 7s 4ms/step - loss: 0.0066 - accuracy: 0.9981 - val_loss: 0.3482 - val_accuracy: 0.9783\n",
      "Epoch 172/200\n",
      "1875/1875 [==============================] - 7s 4ms/step - loss: 0.0070 - accuracy: 0.9984 - val_loss: 0.3313 - val_accuracy: 0.9786\n",
      "Epoch 173/200\n",
      "1875/1875 [==============================] - 6s 3ms/step - loss: 0.0078 - accuracy: 0.9983 - val_loss: 0.3202 - val_accuracy: 0.9795\n",
      "Epoch 174/200\n",
      "1875/1875 [==============================] - 7s 4ms/step - loss: 0.0075 - accuracy: 0.9984 - val_loss: 0.3169 - val_accuracy: 0.9791\n",
      "Epoch 175/200\n",
      "1875/1875 [==============================] - 6s 3ms/step - loss: 0.0072 - accuracy: 0.9983 - val_loss: 0.3347 - val_accuracy: 0.9784\n",
      "Epoch 176/200\n",
      "1875/1875 [==============================] - 7s 4ms/step - loss: 0.0069 - accuracy: 0.9983 - val_loss: 0.3392 - val_accuracy: 0.9793\n",
      "Epoch 177/200\n",
      "1875/1875 [==============================] - 7s 4ms/step - loss: 0.0063 - accuracy: 0.9985 - val_loss: 0.3598 - val_accuracy: 0.9790\n",
      "Epoch 178/200\n",
      "1875/1875 [==============================] - 7s 4ms/step - loss: 0.0049 - accuracy: 0.9987 - val_loss: 0.3246 - val_accuracy: 0.9811\n",
      "Epoch 179/200\n",
      "1875/1875 [==============================] - 6s 3ms/step - loss: 0.0072 - accuracy: 0.9982 - val_loss: 0.3544 - val_accuracy: 0.9789\n",
      "Epoch 180/200\n",
      "1875/1875 [==============================] - 6s 3ms/step - loss: 0.0081 - accuracy: 0.9983 - val_loss: 0.3428 - val_accuracy: 0.9785\n",
      "Epoch 181/200\n",
      "1875/1875 [==============================] - 6s 3ms/step - loss: 0.0057 - accuracy: 0.9985 - val_loss: 0.3410 - val_accuracy: 0.9800\n",
      "Epoch 182/200\n",
      "1875/1875 [==============================] - 7s 4ms/step - loss: 0.0074 - accuracy: 0.9981 - val_loss: 0.3602 - val_accuracy: 0.9787\n",
      "Epoch 183/200\n",
      "1875/1875 [==============================] - 7s 4ms/step - loss: 0.0073 - accuracy: 0.9983 - val_loss: 0.3436 - val_accuracy: 0.9802\n",
      "Epoch 184/200\n",
      "1875/1875 [==============================] - 6s 3ms/step - loss: 0.0067 - accuracy: 0.9984 - val_loss: 0.3671 - val_accuracy: 0.9795\n",
      "Epoch 185/200\n",
      "1875/1875 [==============================] - 6s 3ms/step - loss: 0.0088 - accuracy: 0.9980 - val_loss: 0.3694 - val_accuracy: 0.9786\n",
      "Epoch 186/200\n",
      "1875/1875 [==============================] - 7s 4ms/step - loss: 0.0092 - accuracy: 0.9979 - val_loss: 0.3457 - val_accuracy: 0.9784\n",
      "Epoch 187/200\n",
      "1875/1875 [==============================] - 7s 4ms/step - loss: 0.0063 - accuracy: 0.9984 - val_loss: 0.3384 - val_accuracy: 0.9793\n",
      "Epoch 188/200\n",
      "1875/1875 [==============================] - 7s 4ms/step - loss: 0.0069 - accuracy: 0.9983 - val_loss: 0.3580 - val_accuracy: 0.9789\n",
      "Epoch 189/200\n",
      "1875/1875 [==============================] - 7s 4ms/step - loss: 0.0089 - accuracy: 0.9982 - val_loss: 0.3617 - val_accuracy: 0.9778\n",
      "Epoch 190/200\n",
      "1875/1875 [==============================] - 7s 3ms/step - loss: 0.0084 - accuracy: 0.9981 - val_loss: 0.3463 - val_accuracy: 0.9790\n",
      "Epoch 191/200\n",
      "1875/1875 [==============================] - 7s 3ms/step - loss: 0.0075 - accuracy: 0.9983 - val_loss: 0.3560 - val_accuracy: 0.9788\n",
      "Epoch 192/200\n",
      "1875/1875 [==============================] - 6s 3ms/step - loss: 0.0077 - accuracy: 0.9984 - val_loss: 0.3535 - val_accuracy: 0.9784\n",
      "Epoch 193/200\n",
      "1875/1875 [==============================] - 7s 4ms/step - loss: 0.0055 - accuracy: 0.9986 - val_loss: 0.3519 - val_accuracy: 0.9779\n",
      "Epoch 194/200\n",
      "1875/1875 [==============================] - 6s 3ms/step - loss: 0.0063 - accuracy: 0.9984 - val_loss: 0.3569 - val_accuracy: 0.9804\n",
      "Epoch 195/200\n",
      "1875/1875 [==============================] - 7s 4ms/step - loss: 0.0064 - accuracy: 0.9984 - val_loss: 0.3644 - val_accuracy: 0.9791\n",
      "Epoch 196/200\n",
      "1875/1875 [==============================] - 7s 4ms/step - loss: 0.0093 - accuracy: 0.9977 - val_loss: 0.3780 - val_accuracy: 0.9784\n",
      "Epoch 197/200\n",
      "1875/1875 [==============================] - 7s 4ms/step - loss: 0.0068 - accuracy: 0.9983 - val_loss: 0.3576 - val_accuracy: 0.9774\n",
      "Epoch 198/200\n",
      "1875/1875 [==============================] - 7s 4ms/step - loss: 0.0070 - accuracy: 0.9983 - val_loss: 0.3604 - val_accuracy: 0.9785\n",
      "Epoch 199/200\n",
      "1875/1875 [==============================] - 7s 4ms/step - loss: 0.0072 - accuracy: 0.9983 - val_loss: 0.3532 - val_accuracy: 0.9795\n",
      "Epoch 200/200\n",
      "1875/1875 [==============================] - 7s 4ms/step - loss: 0.0066 - accuracy: 0.9983 - val_loss: 0.3353 - val_accuracy: 0.9788\n"
     ]
    }
   ],
   "source": [
    "history_ = model.fit(x_train, y_train, epochs=200, validation_data=(x_test, y_test))"
   ],
   "metadata": {
    "collapsed": false
   }
  },
  {
   "cell_type": "code",
   "execution_count": 55,
   "outputs": [
    {
     "data": {
      "text/plain": "<Figure size 640x480 with 1 Axes>",
      "image/png": "[encoded data removed]"
     },
     "metadata": {},
     "output_type": "display_data"
    }
   ],
   "source": [
    "plt.plot(history.history['accuracy'])\n",
    "plt.plot(history.history['val_accuracy'])\n",
    "plt.title('model fitting history')\n",
    "plt.xlabel('epoch')\n",
    "plt.legend(['train', 'validation'], loc='upper left')\n",
    "plt.show()"
   ],
   "metadata": {
    "collapsed": false
   }
  }
 ],
 "metadata": {
  "kernelspec": {
   "display_name": "Python 3",
   "language": "python",
   "name": "python3"
  },
  "language_info": {
   "codemirror_mode": {
    "name": "ipython",
    "version": 2
   },
   "file_extension": ".py",
   "mimetype": "text/x-python",
   "name": "python",
   "nbconvert_exporter": "python",
   "pygments_lexer": "ipython2",
   "version": "2.7.6"
  }
 },
 "nbformat": 4,
 "nbformat_minor": 0
}
